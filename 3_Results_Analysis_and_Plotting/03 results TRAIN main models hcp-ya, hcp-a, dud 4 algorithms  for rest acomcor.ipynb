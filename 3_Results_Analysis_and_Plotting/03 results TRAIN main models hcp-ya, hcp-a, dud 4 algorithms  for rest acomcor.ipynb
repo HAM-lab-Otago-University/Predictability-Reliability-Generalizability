{
 "cells": [
  {
   "cell_type": "code",
   "execution_count": null,
   "id": "2b053b2c",
   "metadata": {
    "scrolled": true
   },
   "outputs": [],
   "source": [
    "## IMPORTANT !\n",
    "\n",
    "# In the first order need to set the number of CPU \n",
    "# for calculation before launching (depends on computer's number of cores)\n",
    "n_jobs= 50\n",
    "#libraries\n",
    "import pandas as pd\n",
    "import numpy as np\n",
    "import os\n",
    "import sys\n",
    "import shutil\n",
    "import glob\n",
    "import joblib\n",
    "import warnings\n",
    "from datetime import date, datetime\n",
    "\n",
    "from sklearn.decomposition import PCA\n",
    "from sklearn.impute import SimpleImputer\n",
    "from sklearn.linear_model import ElasticNet\n",
    "from sklearn.linear_model import LinearRegression\n",
    "from sklearn.metrics import mean_absolute_error\n",
    "from sklearn.metrics import mean_squared_error\n",
    "from sklearn.metrics import r2_score\n",
    "from sklearn.model_selection import GridSearchCV\n",
    "from sklearn.model_selection import GroupKFold\n",
    "from sklearn.model_selection import LeavePGroupsOut\n",
    "from sklearn.model_selection import train_test_split\n",
    "from sklearn.pipeline import Pipeline\n",
    "from sklearn.preprocessing import LabelEncoder\n",
    "from sklearn.preprocessing import StandardScaler\n",
    "from sklearn.utils import resample\n",
    "\n",
    "import matplotlib.pyplot as plt\n",
    "import seaborn as sns\n",
    "\n",
    "from scipy.stats import pearsonr\n",
    "import scipy.stats as st\n",
    "\n",
    "from nilearn import image as nli\n",
    "from nilearn import plotting\n",
    "\n",
    "#from mne.viz import plot_connectivity_circle\n",
    "from mne_connectivity.viz import plot_connectivity_circle\n",
    "\n",
    "import copy\n",
    "\n",
    "#%matplotlib inline\n",
    "#import matplotlib_inline\n",
    "#matplotlib_inline.backend_inline.set_matplotlib_formats('svg')"
   ]
  },
  {
   "cell_type": "markdown",
   "id": "a8545f18",
   "metadata": {},
   "source": [
    "##### Path variables"
   ]
  },
  {
   "cell_type": "code",
   "execution_count": null,
   "id": "6c66bc26",
   "metadata": {
    "scrolled": true
   },
   "outputs": [],
   "source": [
    "path_ya = '/media/hcs-psy-narun/Alina/HCP_results/sep_2023_rerun_v5/hcp_ya/results/totalIQ/'\n",
    "path_a = '/media/hcs-psy-narun/Alina/HCP_results/aug_rerun_v5/hcp_aging/results/totalIQ/'\n",
    "path_d = '/media/hcs-psy-narun/Alina/HCP_results/aug_rerun_v5/dud_study/results/IQ45_adj/'\n",
    "path_d_ch = '/media/hcs-psy-narun/Alina/HCP_results/aug_rerun_v5/dud_study/results/IQch_adj/'\n",
    "path_d_res = '/media/hcs-psy-narun/Alina/HCP_results/aug_rerun_v5/dud_study/results/IQres_adj/'"
   ]
  },
  {
   "cell_type": "code",
   "execution_count": null,
   "id": "31490de1",
   "metadata": {
    "scrolled": true
   },
   "outputs": [],
   "source": [
    "path_ya_obs = '/media/hcs-psy-narun/Alina/ready_tables_new_enhanced_REST-acomcor/main_set/totalIQ/'\n",
    "path_a_obs = '/media/data/HCPAging/data/New_MLTabs_OneTrain_latest_short/totalIQ/'\n",
    "path_d_obs = '/media/data/Dunedin_Study_Data_Narun_P_Jan2022/New_MLTabs_OneTrain/main_set/IQ45_adj/'\n",
    "path_d_ch_obs = '/media/data/Dunedin_Study_Data_Narun_P_Jan2022/New_MLTabs_OneTrain/main_set/IQch_adj/'\n",
    "path_d_res_obs = '/media/data/Dunedin_Study_Data_Narun_P_Jan2022/New_MLTabs_OneTrain/main_set/IQres_adj/'"
   ]
  },
  {
   "cell_type": "code",
   "execution_count": null,
   "id": "426f865e",
   "metadata": {},
   "outputs": [],
   "source": [
    "path_out = '/media/hcs-psy-narun/Alina/HCP_results/predicted_values_for_datasets_REST_acomcor/'"
   ]
  },
  {
   "cell_type": "markdown",
   "id": "d6a5b9ca",
   "metadata": {},
   "source": [
    "##### Load data"
   ]
  },
  {
   "cell_type": "code",
   "execution_count": null,
   "id": "91d4d693",
   "metadata": {
    "scrolled": true
   },
   "outputs": [],
   "source": [
    "#load observed data\n",
    "targ_obs = {}\n",
    "\n",
    "for path, key in zip([path_ya_obs, path_a_obs, path_d_obs, path_d_ch_obs, path_d_res_obs],\n",
    "                     ['YA', 'A', 'DUD', 'DUD_ch', 'DUD_res']):\n",
    "    targ = {}\n",
    "    for fold in sorted(os.listdir(path)):\n",
    "        targ[fold] = pd.read_csv(glob.glob(path+fold+'/*_train1*')[0], index_col=0)\n",
    "    \n",
    "    targ_obs[key] = targ"
   ]
  },
  {
   "cell_type": "code",
   "execution_count": null,
   "id": "15886b2b",
   "metadata": {
    "scrolled": true
   },
   "outputs": [],
   "source": [
    "#load predicted data\n",
    "layer1 = {}\n",
    "layer2 = {}\n",
    "\n",
    "for path_obs, key, path in zip([path_ya_obs, path_a_obs, path_d_obs, path_d_ch_obs, path_d_res_obs],\n",
    "                               ['YA', 'A', 'DUD', 'DUD_ch', 'DUD_res'],\n",
    "                               [path_ya, path_a, path_d, path_d_ch, path_d_res]):\n",
    "    l1={}\n",
    "    l2={}\n",
    "    for fold in sorted(os.listdir(path_obs)):\n",
    "        l1[fold] = {}\n",
    "        l2[fold] = {}\n",
    "        for file in sorted(glob.glob(path+'layer1/*/*/'+fold+'/train1_results.csv')):\n",
    "            l1[fold][file.split('/')[-4]+'_'+file.split('/')[-3]] = pd.read_csv(file, index_col=0, squeeze=True)\n",
    "        for file in sorted(glob.glob(path+'layer2/*/*/*/'+fold+'/train1_results.csv')):\n",
    "            l2[fold][file.split('/')[-5]+'_'+file.split('/')[-4]+'_'+file.split('/')[-3]] = pd.read_csv(file, index_col=0, squeeze=True)\n",
    "    layer1[key] = l1\n",
    "    layer2[key] = l2"
   ]
  },
  {
   "cell_type": "code",
   "execution_count": null,
   "id": "98147f7f",
   "metadata": {
    "scrolled": true
   },
   "outputs": [],
   "source": [
    "#concat the layers into one tab for each mod\n",
    "\n",
    "val_pred = {}\n",
    "\n",
    "for path_obs, KEY in zip([path_ya_obs, path_a_obs, path_d_obs, path_d_ch_obs, path_d_res_obs],\n",
    "                         ['YA', 'A', 'DUD', 'DUD_ch', 'DUD_res']):\n",
    "    \n",
    "    tab_val = pd.DataFrame()\n",
    "    \n",
    "    for fold in sorted(os.listdir(path_obs)):\n",
    "        \n",
    "        a = pd.DataFrame(layer1[KEY][fold])\n",
    "        b = pd.DataFrame(layer2[KEY][fold])\n",
    "        ab = pd.concat([a, b], axis=1)\n",
    "        ab['y_obs'] = targ_obs[KEY][fold].values.ravel()\n",
    "        ab['fold'] = np.full(targ_obs[KEY][fold].values.ravel().shape, fold)\n",
    "        ab.index = targ_obs[KEY][fold].index\n",
    "        \n",
    "        tab_val = pd.concat([tab_val, ab], axis=0)\n",
    "    \n",
    "    val_pred[KEY] = tab_val"
   ]
  },
  {
   "cell_type": "markdown",
   "id": "d5754935",
   "metadata": {
    "scrolled": true
   },
   "source": [
    "##### Calculate indexes"
   ]
  },
  {
   "cell_type": "code",
   "execution_count": null,
   "id": "0718c697",
   "metadata": {
    "scrolled": true
   },
   "outputs": [],
   "source": [
    "from warnings import simplefilter\n",
    "from sklearn.exceptions import ConvergenceWarning\n",
    "simplefilter(\"ignore\", category=ConvergenceWarning)\n",
    "\n",
    "if not sys.warnoptions:\n",
    "    warnings.simplefilter(\"ignore\")\n",
    "    os.environ[\"PYTHONWARNINGS\"] = \"ignore\"\n",
    "\n",
    "R2 = {}\n",
    "MAE = {}\n",
    "COR = {}\n",
    "Results = {}\n",
    "\n",
    "for path_obs, KEY, path in zip([path_ya_obs, path_a_obs, path_d_obs, path_d_ch_obs, path_d_res_obs],\n",
    "                               ['YA', 'A', 'DUD', 'DUD_ch', 'DUD_res'],\n",
    "                               [path_ya, path_a, path_d, path_d_ch, path_d_res]):\n",
    "\n",
    "\n",
    "    #calculate indexes\n",
    "    r2 = {}\n",
    "    mae = {}\n",
    "    corr = {}\n",
    "\n",
    "    for fold in sorted(os.listdir(path_obs)):\n",
    "        #print(fold)\n",
    "        r2[fold] = {}\n",
    "        mae[fold] = {}\n",
    "        corr[fold] = {}\n",
    "        for key in layer1[KEY][fold].keys():\n",
    "            #print(key)\n",
    "            r2[fold][key] = r2_score(targ_obs[KEY][fold], layer1[KEY][fold][key])\n",
    "            mae[fold][key] = mean_absolute_error(targ_obs[KEY][fold], layer1[KEY][fold][key])\n",
    "            corr[fold][key] = pearsonr(targ_obs[KEY][fold].values.ravel(), layer1[KEY][fold][key].values.ravel())[0]    \n",
    "        for key in layer2[KEY][fold].keys():\n",
    "            #print(key)\n",
    "            r2[fold][key] = r2_score(targ_obs[KEY][fold], layer2[KEY][fold][key])\n",
    "            mae[fold][key] = mean_absolute_error(targ_obs[KEY][fold], layer2[KEY][fold][key])\n",
    "            corr[fold][key] = pearsonr(targ_obs[KEY][fold].values.ravel(), layer2[KEY][fold][key].values.ravel())[0]       \n",
    "    r2 = pd.DataFrame(r2)        \n",
    "    mae = pd.DataFrame(mae)\n",
    "    corr = pd.DataFrame(corr)\n",
    "\n",
    "    results = pd.DataFrame({'r2':r2.T.mean(),\n",
    "                            'mae':mae.T.mean(),\n",
    "                            'corr':corr.T.mean()})\n",
    "    \n",
    "    R2[KEY] = r2\n",
    "    MAE[KEY] = mae\n",
    "    COR[KEY] = corr\n",
    "    Results[KEY] = results\n",
    "    "
   ]
  },
  {
   "cell_type": "markdown",
   "id": "5ae928cb",
   "metadata": {
    "scrolled": true
   },
   "source": [
    "##### Save"
   ]
  },
  {
   "cell_type": "code",
   "execution_count": null,
   "id": "cf30fef6",
   "metadata": {
    "scrolled": true
   },
   "outputs": [],
   "source": [
    "\n",
    "\n",
    "for KEY in ['YA', 'A', 'DUD', 'DUD_ch', 'DUD_res']:\n",
    "    \n",
    "    R2[KEY].to_csv(path_out+'R2_'+KEY+'.csv')\n",
    "    MAE[KEY].to_csv(path_out+'MAE_'+KEY+'.csv')\n",
    "    COR[KEY].to_csv(path_out+'COR_'+KEY+'.csv')\n",
    "    Results[KEY].to_csv(path_out+'Results_mean_'+KEY+'.csv')\n",
    "    val_pred[KEY].to_csv(path_out+'pred_vals_'+KEY+'.csv')"
   ]
  },
  {
   "cell_type": "code",
   "execution_count": null,
   "id": "94adf05a",
   "metadata": {},
   "outputs": [],
   "source": []
  },
  {
   "cell_type": "code",
   "execution_count": null,
   "id": "54582d70",
   "metadata": {
    "scrolled": true
   },
   "outputs": [],
   "source": []
  }
 ],
 "metadata": {
  "kernelspec": {
   "display_name": "Python 3 (ipykernel)",
   "language": "python",
   "name": "python3"
  },
  "language_info": {
   "codemirror_mode": {
    "name": "ipython",
    "version": 3
   },
   "file_extension": ".py",
   "mimetype": "text/x-python",
   "name": "python",
   "nbconvert_exporter": "python",
   "pygments_lexer": "ipython3",
   "version": "3.7.10"
  }
 },
 "nbformat": 4,
 "nbformat_minor": 5
}
