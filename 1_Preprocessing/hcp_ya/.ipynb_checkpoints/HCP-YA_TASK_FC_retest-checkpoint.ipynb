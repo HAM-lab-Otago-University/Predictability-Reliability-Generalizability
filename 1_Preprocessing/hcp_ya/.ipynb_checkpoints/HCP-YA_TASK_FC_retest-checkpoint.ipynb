{
 "cells": [
  {
   "cell_type": "code",
   "execution_count": 1,
   "id": "c38b8be3",
   "metadata": {},
   "outputs": [
    {
     "name": "stderr",
     "output_type": "stream",
     "text": [
      "pixdim[1,2,3] should be non-zero; setting 0 dims to 1\n"
     ]
    }
   ],
   "source": [
    "import pandas as pd\n",
    "import numpy as np\n",
    "import os\n",
    "import glob\n",
    "import seaborn as sns\n",
    "import nibabel as nib\n",
    "import nilearn.plotting as plotting\n",
    "import matplotlib.pyplot as plt\n",
    "%matplotlib inline\n",
    "import hcp_utils as hcp"
   ]
  },
  {
   "cell_type": "markdown",
   "id": "e096b779",
   "metadata": {},
   "source": [
    "##### Path var"
   ]
  },
  {
   "cell_type": "code",
   "execution_count": 2,
   "id": "f6683a00",
   "metadata": {},
   "outputs": [],
   "source": [
    "source_dir = '/media/hcs-psy-narun/HCP-YA-retest-BIDS/derivatives/xcp_d-0.4.0rc2+16/xcp_d/'"
   ]
  },
  {
   "cell_type": "code",
   "execution_count": 3,
   "id": "d89869bb",
   "metadata": {},
   "outputs": [],
   "source": [
    "os.makedirs('/media/hcs-psy-narun/HCP-YA_retest_task_connectivity/signals')"
   ]
  },
  {
   "cell_type": "code",
   "execution_count": 4,
   "id": "994f6aa5",
   "metadata": {},
   "outputs": [],
   "source": [
    "out_dir = '/media/hcs-psy-narun/HCP-YA_retest_task_connectivity/signals/'"
   ]
  },
  {
   "cell_type": "code",
   "execution_count": 5,
   "id": "b4f67fc5",
   "metadata": {},
   "outputs": [],
   "source": [
    "out_tab = '/media/hcs-psy-narun/HCP-YA_retest_task_connectivity/'"
   ]
  },
  {
   "cell_type": "markdown",
   "id": "b60b535c",
   "metadata": {},
   "source": [
    "##### Load data"
   ]
  },
  {
   "cell_type": "code",
   "execution_count": 6,
   "id": "639e9a5c",
   "metadata": {},
   "outputs": [],
   "source": [
    "labels_reord = np.append(pd.Series(hcp.mmp.labels)[1:].values[180:-19], pd.Series(hcp.mmp.labels)[1:].values[0:180])\n",
    "labels_reord = np.append(labels_reord, sorted(pd.Series(hcp.mmp.labels)[1:].values[-19:]))"
   ]
  },
  {
   "cell_type": "code",
   "execution_count": 7,
   "id": "3927ff41",
   "metadata": {},
   "outputs": [],
   "source": [
    "#read subject IDs\n",
    "subIDs = [i.split('/')[-2].split('-')[-1] for i in (sorted(glob.glob(source_dir+'sub-*/')))]"
   ]
  },
  {
   "cell_type": "code",
   "execution_count": 8,
   "id": "d07220a2",
   "metadata": {},
   "outputs": [],
   "source": [
    "retest_ids = np.array(pd.read_csv('/media/hcs-psy-narun/Alina/HCP_YA_retest_id.csv', header=None).values.ravel(), dtype=str)"
   ]
  },
  {
   "cell_type": "markdown",
   "id": "7d2d6fa1",
   "metadata": {},
   "source": [
    "##### Read cifti files, extract signals and save them as a files"
   ]
  },
  {
   "cell_type": "code",
   "execution_count": 10,
   "id": "1e0b8690",
   "metadata": {},
   "outputs": [
    {
     "name": "stderr",
     "output_type": "stream",
     "text": [
      "/home/narunlab/anaconda3/envs/python11env/lib/python3.11/site-packages/hcp_utils/hcp_utils.py:456: RuntimeWarning: invalid value encountered in divide\n",
      "  return (X - np.mean(X,axis=0))/np.std(X,axis=0)\n",
      "/home/narunlab/anaconda3/envs/python11env/lib/python3.11/site-packages/hcp_utils/hcp_utils.py:456: RuntimeWarning: invalid value encountered in divide\n",
      "  return (X - np.mean(X,axis=0))/np.std(X,axis=0)\n",
      "/home/narunlab/anaconda3/envs/python11env/lib/python3.11/site-packages/hcp_utils/hcp_utils.py:456: RuntimeWarning: invalid value encountered in divide\n",
      "  return (X - np.mean(X,axis=0))/np.std(X,axis=0)\n",
      "/home/narunlab/anaconda3/envs/python11env/lib/python3.11/site-packages/hcp_utils/hcp_utils.py:456: RuntimeWarning: invalid value encountered in divide\n",
      "  return (X - np.mean(X,axis=0))/np.std(X,axis=0)\n",
      "/home/narunlab/anaconda3/envs/python11env/lib/python3.11/site-packages/hcp_utils/hcp_utils.py:456: RuntimeWarning: invalid value encountered in divide\n",
      "  return (X - np.mean(X,axis=0))/np.std(X,axis=0)\n",
      "/home/narunlab/anaconda3/envs/python11env/lib/python3.11/site-packages/hcp_utils/hcp_utils.py:456: RuntimeWarning: invalid value encountered in divide\n",
      "  return (X - np.mean(X,axis=0))/np.std(X,axis=0)\n",
      "/home/narunlab/anaconda3/envs/python11env/lib/python3.11/site-packages/hcp_utils/hcp_utils.py:456: RuntimeWarning: invalid value encountered in divide\n",
      "  return (X - np.mean(X,axis=0))/np.std(X,axis=0)\n",
      "/home/narunlab/anaconda3/envs/python11env/lib/python3.11/site-packages/hcp_utils/hcp_utils.py:456: RuntimeWarning: invalid value encountered in divide\n",
      "  return (X - np.mean(X,axis=0))/np.std(X,axis=0)\n",
      "/home/narunlab/anaconda3/envs/python11env/lib/python3.11/site-packages/hcp_utils/hcp_utils.py:456: RuntimeWarning: invalid value encountered in divide\n",
      "  return (X - np.mean(X,axis=0))/np.std(X,axis=0)\n",
      "/home/narunlab/anaconda3/envs/python11env/lib/python3.11/site-packages/hcp_utils/hcp_utils.py:456: RuntimeWarning: invalid value encountered in divide\n",
      "  return (X - np.mean(X,axis=0))/np.std(X,axis=0)\n",
      "/home/narunlab/anaconda3/envs/python11env/lib/python3.11/site-packages/hcp_utils/hcp_utils.py:456: RuntimeWarning: invalid value encountered in divide\n",
      "  return (X - np.mean(X,axis=0))/np.std(X,axis=0)\n",
      "/home/narunlab/anaconda3/envs/python11env/lib/python3.11/site-packages/hcp_utils/hcp_utils.py:456: RuntimeWarning: invalid value encountered in divide\n",
      "  return (X - np.mean(X,axis=0))/np.std(X,axis=0)\n",
      "/home/narunlab/anaconda3/envs/python11env/lib/python3.11/site-packages/hcp_utils/hcp_utils.py:456: RuntimeWarning: invalid value encountered in divide\n",
      "  return (X - np.mean(X,axis=0))/np.std(X,axis=0)\n",
      "/home/narunlab/anaconda3/envs/python11env/lib/python3.11/site-packages/hcp_utils/hcp_utils.py:456: RuntimeWarning: invalid value encountered in divide\n",
      "  return (X - np.mean(X,axis=0))/np.std(X,axis=0)\n",
      "/home/narunlab/anaconda3/envs/python11env/lib/python3.11/site-packages/hcp_utils/hcp_utils.py:456: RuntimeWarning: invalid value encountered in divide\n",
      "  return (X - np.mean(X,axis=0))/np.std(X,axis=0)\n",
      "/home/narunlab/anaconda3/envs/python11env/lib/python3.11/site-packages/hcp_utils/hcp_utils.py:456: RuntimeWarning: invalid value encountered in divide\n",
      "  return (X - np.mean(X,axis=0))/np.std(X,axis=0)\n",
      "/home/narunlab/anaconda3/envs/python11env/lib/python3.11/site-packages/hcp_utils/hcp_utils.py:456: RuntimeWarning: invalid value encountered in divide\n",
      "  return (X - np.mean(X,axis=0))/np.std(X,axis=0)\n",
      "/home/narunlab/anaconda3/envs/python11env/lib/python3.11/site-packages/hcp_utils/hcp_utils.py:456: RuntimeWarning: invalid value encountered in divide\n",
      "  return (X - np.mean(X,axis=0))/np.std(X,axis=0)\n",
      "/home/narunlab/anaconda3/envs/python11env/lib/python3.11/site-packages/hcp_utils/hcp_utils.py:456: RuntimeWarning: invalid value encountered in divide\n",
      "  return (X - np.mean(X,axis=0))/np.std(X,axis=0)\n",
      "/home/narunlab/anaconda3/envs/python11env/lib/python3.11/site-packages/hcp_utils/hcp_utils.py:456: RuntimeWarning: invalid value encountered in divide\n",
      "  return (X - np.mean(X,axis=0))/np.std(X,axis=0)\n",
      "/home/narunlab/anaconda3/envs/python11env/lib/python3.11/site-packages/hcp_utils/hcp_utils.py:456: RuntimeWarning: invalid value encountered in divide\n",
      "  return (X - np.mean(X,axis=0))/np.std(X,axis=0)\n",
      "/home/narunlab/anaconda3/envs/python11env/lib/python3.11/site-packages/hcp_utils/hcp_utils.py:456: RuntimeWarning: invalid value encountered in divide\n",
      "  return (X - np.mean(X,axis=0))/np.std(X,axis=0)\n",
      "/home/narunlab/anaconda3/envs/python11env/lib/python3.11/site-packages/hcp_utils/hcp_utils.py:456: RuntimeWarning: invalid value encountered in divide\n",
      "  return (X - np.mean(X,axis=0))/np.std(X,axis=0)\n",
      "/home/narunlab/anaconda3/envs/python11env/lib/python3.11/site-packages/hcp_utils/hcp_utils.py:456: RuntimeWarning: invalid value encountered in divide\n",
      "  return (X - np.mean(X,axis=0))/np.std(X,axis=0)\n",
      "/home/narunlab/anaconda3/envs/python11env/lib/python3.11/site-packages/hcp_utils/hcp_utils.py:456: RuntimeWarning: invalid value encountered in divide\n",
      "  return (X - np.mean(X,axis=0))/np.std(X,axis=0)\n",
      "/home/narunlab/anaconda3/envs/python11env/lib/python3.11/site-packages/hcp_utils/hcp_utils.py:456: RuntimeWarning: invalid value encountered in divide\n",
      "  return (X - np.mean(X,axis=0))/np.std(X,axis=0)\n",
      "/home/narunlab/anaconda3/envs/python11env/lib/python3.11/site-packages/hcp_utils/hcp_utils.py:456: RuntimeWarning: invalid value encountered in divide\n",
      "  return (X - np.mean(X,axis=0))/np.std(X,axis=0)\n",
      "/home/narunlab/anaconda3/envs/python11env/lib/python3.11/site-packages/hcp_utils/hcp_utils.py:456: RuntimeWarning: invalid value encountered in divide\n",
      "  return (X - np.mean(X,axis=0))/np.std(X,axis=0)\n",
      "/home/narunlab/anaconda3/envs/python11env/lib/python3.11/site-packages/hcp_utils/hcp_utils.py:456: RuntimeWarning: invalid value encountered in divide\n",
      "  return (X - np.mean(X,axis=0))/np.std(X,axis=0)\n",
      "/home/narunlab/anaconda3/envs/python11env/lib/python3.11/site-packages/hcp_utils/hcp_utils.py:456: RuntimeWarning: invalid value encountered in divide\n",
      "  return (X - np.mean(X,axis=0))/np.std(X,axis=0)\n",
      "/home/narunlab/anaconda3/envs/python11env/lib/python3.11/site-packages/hcp_utils/hcp_utils.py:456: RuntimeWarning: invalid value encountered in divide\n",
      "  return (X - np.mean(X,axis=0))/np.std(X,axis=0)\n",
      "/home/narunlab/anaconda3/envs/python11env/lib/python3.11/site-packages/hcp_utils/hcp_utils.py:456: RuntimeWarning: invalid value encountered in divide\n",
      "  return (X - np.mean(X,axis=0))/np.std(X,axis=0)\n",
      "/home/narunlab/anaconda3/envs/python11env/lib/python3.11/site-packages/hcp_utils/hcp_utils.py:456: RuntimeWarning: invalid value encountered in divide\n",
      "  return (X - np.mean(X,axis=0))/np.std(X,axis=0)\n",
      "/home/narunlab/anaconda3/envs/python11env/lib/python3.11/site-packages/hcp_utils/hcp_utils.py:456: RuntimeWarning: invalid value encountered in divide\n",
      "  return (X - np.mean(X,axis=0))/np.std(X,axis=0)\n",
      "/home/narunlab/anaconda3/envs/python11env/lib/python3.11/site-packages/hcp_utils/hcp_utils.py:456: RuntimeWarning: invalid value encountered in divide\n",
      "  return (X - np.mean(X,axis=0))/np.std(X,axis=0)\n",
      "/home/narunlab/anaconda3/envs/python11env/lib/python3.11/site-packages/hcp_utils/hcp_utils.py:456: RuntimeWarning: invalid value encountered in divide\n",
      "  return (X - np.mean(X,axis=0))/np.std(X,axis=0)\n",
      "/home/narunlab/anaconda3/envs/python11env/lib/python3.11/site-packages/hcp_utils/hcp_utils.py:456: RuntimeWarning: invalid value encountered in divide\n",
      "  return (X - np.mean(X,axis=0))/np.std(X,axis=0)\n",
      "/home/narunlab/anaconda3/envs/python11env/lib/python3.11/site-packages/hcp_utils/hcp_utils.py:456: RuntimeWarning: invalid value encountered in divide\n",
      "  return (X - np.mean(X,axis=0))/np.std(X,axis=0)\n",
      "/home/narunlab/anaconda3/envs/python11env/lib/python3.11/site-packages/hcp_utils/hcp_utils.py:456: RuntimeWarning: invalid value encountered in divide\n",
      "  return (X - np.mean(X,axis=0))/np.std(X,axis=0)\n",
      "/home/narunlab/anaconda3/envs/python11env/lib/python3.11/site-packages/hcp_utils/hcp_utils.py:456: RuntimeWarning: invalid value encountered in divide\n",
      "  return (X - np.mean(X,axis=0))/np.std(X,axis=0)\n",
      "/home/narunlab/anaconda3/envs/python11env/lib/python3.11/site-packages/hcp_utils/hcp_utils.py:456: RuntimeWarning: invalid value encountered in divide\n",
      "  return (X - np.mean(X,axis=0))/np.std(X,axis=0)\n"
     ]
    },
    {
     "name": "stderr",
     "output_type": "stream",
     "text": [
      "/home/narunlab/anaconda3/envs/python11env/lib/python3.11/site-packages/hcp_utils/hcp_utils.py:456: RuntimeWarning: invalid value encountered in divide\n",
      "  return (X - np.mean(X,axis=0))/np.std(X,axis=0)\n",
      "/home/narunlab/anaconda3/envs/python11env/lib/python3.11/site-packages/hcp_utils/hcp_utils.py:456: RuntimeWarning: invalid value encountered in divide\n",
      "  return (X - np.mean(X,axis=0))/np.std(X,axis=0)\n",
      "/home/narunlab/anaconda3/envs/python11env/lib/python3.11/site-packages/hcp_utils/hcp_utils.py:456: RuntimeWarning: invalid value encountered in divide\n",
      "  return (X - np.mean(X,axis=0))/np.std(X,axis=0)\n",
      "/home/narunlab/anaconda3/envs/python11env/lib/python3.11/site-packages/hcp_utils/hcp_utils.py:456: RuntimeWarning: invalid value encountered in divide\n",
      "  return (X - np.mean(X,axis=0))/np.std(X,axis=0)\n",
      "/home/narunlab/anaconda3/envs/python11env/lib/python3.11/site-packages/hcp_utils/hcp_utils.py:456: RuntimeWarning: invalid value encountered in divide\n",
      "  return (X - np.mean(X,axis=0))/np.std(X,axis=0)\n",
      "/home/narunlab/anaconda3/envs/python11env/lib/python3.11/site-packages/hcp_utils/hcp_utils.py:456: RuntimeWarning: invalid value encountered in divide\n",
      "  return (X - np.mean(X,axis=0))/np.std(X,axis=0)\n",
      "/home/narunlab/anaconda3/envs/python11env/lib/python3.11/site-packages/hcp_utils/hcp_utils.py:456: RuntimeWarning: invalid value encountered in divide\n",
      "  return (X - np.mean(X,axis=0))/np.std(X,axis=0)\n",
      "/home/narunlab/anaconda3/envs/python11env/lib/python3.11/site-packages/hcp_utils/hcp_utils.py:456: RuntimeWarning: invalid value encountered in divide\n",
      "  return (X - np.mean(X,axis=0))/np.std(X,axis=0)\n",
      "/home/narunlab/anaconda3/envs/python11env/lib/python3.11/site-packages/hcp_utils/hcp_utils.py:456: RuntimeWarning: invalid value encountered in divide\n",
      "  return (X - np.mean(X,axis=0))/np.std(X,axis=0)\n",
      "/home/narunlab/anaconda3/envs/python11env/lib/python3.11/site-packages/hcp_utils/hcp_utils.py:456: RuntimeWarning: invalid value encountered in divide\n",
      "  return (X - np.mean(X,axis=0))/np.std(X,axis=0)\n"
     ]
    }
   ],
   "source": [
    "#dct_signls = {}\n",
    "\n",
    "for subID in retest_ids:#subIDs:\n",
    "    \n",
    "    #dct_signls[subID] = {}\n",
    "    \n",
    "    #os.mkdir(out_dir +subID)\n",
    "    path_out = out_dir+str(subID)+'/'\n",
    "    \n",
    "    files = sorted(glob.glob(source_dir+'sub-'+subID+'/func/'+'*'+'denoised_bold.dtseries.nii'))\n",
    "    \n",
    "    for file in files:\n",
    "        \n",
    "        img = nib.load(file) #load file\n",
    "        X = img.get_fdata() #load series to nibabel\n",
    "        Xn = hcp.normalize(X) #normalize series\n",
    "        Xp = hcp.parcellate(Xn, hcp.mmp) #apply Glasser parcellation\n",
    "        Xdf = pd.DataFrame(Xp, columns=pd.Series(hcp.mmp.labels)[1:].values)  #extract timeseries into table\n",
    "        Xdfr = Xdf.reindex(columns = labels_reord) #reorder index as in our previous data\n",
    "        Xdfr = Xdfr.iloc[:,:-19] #replace subcortex from glasser with the same subcortex got with another command\n",
    "        subcortex = {}\n",
    "        for subc in list(hcp.struct.keys())[4:]:\n",
    "            txt = 'hcp.struct.'+str(subc)\n",
    "            subcortex[subc] = pd.DataFrame(Xn[:, eval(txt)]).T.mean().values\n",
    "        sbcr =   pd.DataFrame(subcortex)  \n",
    "\n",
    "        Xdfr1 = pd.concat([Xdfr, sbcr], axis=1)\n",
    "        \n",
    "        \n",
    "        \n",
    "        Xdfr1.to_csv(path_out+str(subID)+'_'+file.split('/')[-1].split('_')[1].split('-')[1]+'_'+file.split('/')[-1].split('_')[2].split('-')[1]+'.csv')\n",
    "        \n",
    "        #dct_signls[subID][file.split('/')[-1].split('_')[1].split('-')[1]+'_'+file.split('/')[-1].split('_')[2].split('-')[1]] = Xdfr\n",
    "        "
   ]
  },
  {
   "cell_type": "code",
   "execution_count": null,
   "id": "97e8f174",
   "metadata": {},
   "outputs": [],
   "source": []
  },
  {
   "cell_type": "markdown",
   "id": "1138eadf",
   "metadata": {},
   "source": [
    "##### Load saved files into dictionary"
   ]
  },
  {
   "cell_type": "code",
   "execution_count": 16,
   "id": "2ea02ba7",
   "metadata": {},
   "outputs": [],
   "source": [
    "dct_signls = {}\n",
    "\n",
    "for subID in retest_ids:\n",
    "    \n",
    "    dct_signls[subID] = {}\n",
    "    \n",
    "    files = sorted(glob.glob(out_dir+subID+'/'+'*'+'.csv'))\n",
    "    \n",
    "    for file in files:\n",
    "        \n",
    "        dct_signls[subID][('_').join(file.split('/')[-1].split('.')[0].split('_')[1:])] = pd.read_csv(file, index_col=0)"
   ]
  },
  {
   "cell_type": "markdown",
   "id": "00002ef8",
   "metadata": {},
   "source": [
    "##### Check for missing files/values"
   ]
  },
  {
   "cell_type": "code",
   "execution_count": 17,
   "id": "cf04f384",
   "metadata": {},
   "outputs": [],
   "source": [
    "#tasks keys\n",
    "tkeys = sorted(set([i.split('_')[0] for i in list(dct_signls[subIDs[0]].keys())]))"
   ]
  },
  {
   "cell_type": "code",
   "execution_count": 18,
   "id": "782e3eac",
   "metadata": {},
   "outputs": [],
   "source": [
    "num_num = {}\n",
    "num_mod = {}\n",
    "for subID in retest_ids:\n",
    "    num_num[subID] = len(dct_signls[subID].keys())\n",
    "    num_mod[subID] = []\n",
    "    for key in sorted(dct_signls['103818'].keys()):\n",
    "        if key not in dct_signls[subID].keys():\n",
    "            num_mod[subID] += [key]\n",
    "    \n",
    "mis_mods_subjs = pd.Series(num_num)\n",
    "#mis_mods_nms = pd.Series()"
   ]
  },
  {
   "cell_type": "code",
   "execution_count": 19,
   "id": "6348436f",
   "metadata": {},
   "outputs": [
    {
     "data": {
      "text/plain": [
       "Series([], dtype: int64)"
      ]
     },
     "execution_count": 19,
     "metadata": {},
     "output_type": "execute_result"
    }
   ],
   "source": [
    "mis_mods_subjs[mis_mods_subjs<12]"
   ]
  },
  {
   "cell_type": "code",
   "execution_count": 20,
   "id": "e37b23b9",
   "metadata": {},
   "outputs": [],
   "source": [
    "for key in mis_mods_subjs[mis_mods_subjs<12].index:\n",
    "    print(key, num_mod[key])"
   ]
  },
  {
   "cell_type": "code",
   "execution_count": null,
   "id": "53489b5f",
   "metadata": {},
   "outputs": [],
   "source": []
  },
  {
   "cell_type": "markdown",
   "id": "d39af860",
   "metadata": {},
   "source": [
    "##### concat signals and calculate correlation matrix for each task, flatten them into one row"
   ]
  },
  {
   "cell_type": "code",
   "execution_count": 21,
   "id": "412bb39c",
   "metadata": {},
   "outputs": [
    {
     "name": "stderr",
     "output_type": "stream",
     "text": [
      "/home/narunlab/anaconda3/envs/python11env/lib/python3.11/site-packages/pandas/core/internals/blocks.py:351: RuntimeWarning: divide by zero encountered in arctanh\n",
      "  result = func(self.values, **kwargs)\n",
      "/home/narunlab/anaconda3/envs/python11env/lib/python3.11/site-packages/pandas/core/internals/blocks.py:351: RuntimeWarning: divide by zero encountered in arctanh\n",
      "  result = func(self.values, **kwargs)\n",
      "/home/narunlab/anaconda3/envs/python11env/lib/python3.11/site-packages/pandas/core/internals/blocks.py:351: RuntimeWarning: divide by zero encountered in arctanh\n",
      "  result = func(self.values, **kwargs)\n",
      "/home/narunlab/anaconda3/envs/python11env/lib/python3.11/site-packages/pandas/core/internals/blocks.py:351: RuntimeWarning: divide by zero encountered in arctanh\n",
      "  result = func(self.values, **kwargs)\n",
      "/home/narunlab/anaconda3/envs/python11env/lib/python3.11/site-packages/pandas/core/internals/blocks.py:351: RuntimeWarning: divide by zero encountered in arctanh\n",
      "  result = func(self.values, **kwargs)\n",
      "/home/narunlab/anaconda3/envs/python11env/lib/python3.11/site-packages/pandas/core/internals/blocks.py:351: RuntimeWarning: divide by zero encountered in arctanh\n",
      "  result = func(self.values, **kwargs)\n",
      "/home/narunlab/anaconda3/envs/python11env/lib/python3.11/site-packages/pandas/core/internals/blocks.py:351: RuntimeWarning: divide by zero encountered in arctanh\n",
      "  result = func(self.values, **kwargs)\n",
      "/home/narunlab/anaconda3/envs/python11env/lib/python3.11/site-packages/pandas/core/internals/blocks.py:351: RuntimeWarning: divide by zero encountered in arctanh\n",
      "  result = func(self.values, **kwargs)\n",
      "/home/narunlab/anaconda3/envs/python11env/lib/python3.11/site-packages/pandas/core/internals/blocks.py:351: RuntimeWarning: divide by zero encountered in arctanh\n",
      "  result = func(self.values, **kwargs)\n",
      "/home/narunlab/anaconda3/envs/python11env/lib/python3.11/site-packages/pandas/core/internals/blocks.py:351: RuntimeWarning: divide by zero encountered in arctanh\n",
      "  result = func(self.values, **kwargs)\n",
      "/home/narunlab/anaconda3/envs/python11env/lib/python3.11/site-packages/pandas/core/internals/blocks.py:351: RuntimeWarning: divide by zero encountered in arctanh\n",
      "  result = func(self.values, **kwargs)\n",
      "/home/narunlab/anaconda3/envs/python11env/lib/python3.11/site-packages/pandas/core/internals/blocks.py:351: RuntimeWarning: divide by zero encountered in arctanh\n",
      "  result = func(self.values, **kwargs)\n",
      "/home/narunlab/anaconda3/envs/python11env/lib/python3.11/site-packages/pandas/core/internals/blocks.py:351: RuntimeWarning: divide by zero encountered in arctanh\n",
      "  result = func(self.values, **kwargs)\n",
      "/home/narunlab/anaconda3/envs/python11env/lib/python3.11/site-packages/pandas/core/internals/blocks.py:351: RuntimeWarning: divide by zero encountered in arctanh\n",
      "  result = func(self.values, **kwargs)\n",
      "/home/narunlab/anaconda3/envs/python11env/lib/python3.11/site-packages/pandas/core/internals/blocks.py:351: RuntimeWarning: divide by zero encountered in arctanh\n",
      "  result = func(self.values, **kwargs)\n",
      "/home/narunlab/anaconda3/envs/python11env/lib/python3.11/site-packages/pandas/core/internals/blocks.py:351: RuntimeWarning: divide by zero encountered in arctanh\n",
      "  result = func(self.values, **kwargs)\n",
      "/home/narunlab/anaconda3/envs/python11env/lib/python3.11/site-packages/pandas/core/internals/blocks.py:351: RuntimeWarning: divide by zero encountered in arctanh\n",
      "  result = func(self.values, **kwargs)\n",
      "/home/narunlab/anaconda3/envs/python11env/lib/python3.11/site-packages/pandas/core/internals/blocks.py:351: RuntimeWarning: divide by zero encountered in arctanh\n",
      "  result = func(self.values, **kwargs)\n",
      "/home/narunlab/anaconda3/envs/python11env/lib/python3.11/site-packages/pandas/core/internals/blocks.py:351: RuntimeWarning: divide by zero encountered in arctanh\n",
      "  result = func(self.values, **kwargs)\n",
      "/home/narunlab/anaconda3/envs/python11env/lib/python3.11/site-packages/pandas/core/internals/blocks.py:351: RuntimeWarning: divide by zero encountered in arctanh\n",
      "  result = func(self.values, **kwargs)\n",
      "/home/narunlab/anaconda3/envs/python11env/lib/python3.11/site-packages/pandas/core/internals/blocks.py:351: RuntimeWarning: divide by zero encountered in arctanh\n",
      "  result = func(self.values, **kwargs)\n",
      "/home/narunlab/anaconda3/envs/python11env/lib/python3.11/site-packages/pandas/core/internals/blocks.py:351: RuntimeWarning: divide by zero encountered in arctanh\n",
      "  result = func(self.values, **kwargs)\n",
      "/home/narunlab/anaconda3/envs/python11env/lib/python3.11/site-packages/pandas/core/internals/blocks.py:351: RuntimeWarning: divide by zero encountered in arctanh\n",
      "  result = func(self.values, **kwargs)\n",
      "/home/narunlab/anaconda3/envs/python11env/lib/python3.11/site-packages/pandas/core/internals/blocks.py:351: RuntimeWarning: divide by zero encountered in arctanh\n",
      "  result = func(self.values, **kwargs)\n",
      "/home/narunlab/anaconda3/envs/python11env/lib/python3.11/site-packages/pandas/core/internals/blocks.py:351: RuntimeWarning: divide by zero encountered in arctanh\n",
      "  result = func(self.values, **kwargs)\n",
      "/home/narunlab/anaconda3/envs/python11env/lib/python3.11/site-packages/pandas/core/internals/blocks.py:351: RuntimeWarning: divide by zero encountered in arctanh\n",
      "  result = func(self.values, **kwargs)\n",
      "/home/narunlab/anaconda3/envs/python11env/lib/python3.11/site-packages/pandas/core/internals/blocks.py:351: RuntimeWarning: divide by zero encountered in arctanh\n",
      "  result = func(self.values, **kwargs)\n",
      "/home/narunlab/anaconda3/envs/python11env/lib/python3.11/site-packages/pandas/core/internals/blocks.py:351: RuntimeWarning: divide by zero encountered in arctanh\n",
      "  result = func(self.values, **kwargs)\n",
      "/home/narunlab/anaconda3/envs/python11env/lib/python3.11/site-packages/pandas/core/internals/blocks.py:351: RuntimeWarning: divide by zero encountered in arctanh\n",
      "  result = func(self.values, **kwargs)\n",
      "/home/narunlab/anaconda3/envs/python11env/lib/python3.11/site-packages/pandas/core/internals/blocks.py:351: RuntimeWarning: divide by zero encountered in arctanh\n",
      "  result = func(self.values, **kwargs)\n",
      "/home/narunlab/anaconda3/envs/python11env/lib/python3.11/site-packages/pandas/core/internals/blocks.py:351: RuntimeWarning: divide by zero encountered in arctanh\n",
      "  result = func(self.values, **kwargs)\n",
      "/home/narunlab/anaconda3/envs/python11env/lib/python3.11/site-packages/pandas/core/internals/blocks.py:351: RuntimeWarning: divide by zero encountered in arctanh\n",
      "  result = func(self.values, **kwargs)\n",
      "/home/narunlab/anaconda3/envs/python11env/lib/python3.11/site-packages/pandas/core/internals/blocks.py:351: RuntimeWarning: divide by zero encountered in arctanh\n",
      "  result = func(self.values, **kwargs)\n",
      "/home/narunlab/anaconda3/envs/python11env/lib/python3.11/site-packages/pandas/core/internals/blocks.py:351: RuntimeWarning: divide by zero encountered in arctanh\n",
      "  result = func(self.values, **kwargs)\n",
      "/home/narunlab/anaconda3/envs/python11env/lib/python3.11/site-packages/pandas/core/internals/blocks.py:351: RuntimeWarning: divide by zero encountered in arctanh\n",
      "  result = func(self.values, **kwargs)\n",
      "/home/narunlab/anaconda3/envs/python11env/lib/python3.11/site-packages/pandas/core/internals/blocks.py:351: RuntimeWarning: divide by zero encountered in arctanh\n",
      "  result = func(self.values, **kwargs)\n",
      "/home/narunlab/anaconda3/envs/python11env/lib/python3.11/site-packages/pandas/core/internals/blocks.py:351: RuntimeWarning: divide by zero encountered in arctanh\n",
      "  result = func(self.values, **kwargs)\n",
      "/home/narunlab/anaconda3/envs/python11env/lib/python3.11/site-packages/pandas/core/internals/blocks.py:351: RuntimeWarning: divide by zero encountered in arctanh\n",
      "  result = func(self.values, **kwargs)\n",
      "/home/narunlab/anaconda3/envs/python11env/lib/python3.11/site-packages/pandas/core/internals/blocks.py:351: RuntimeWarning: divide by zero encountered in arctanh\n",
      "  result = func(self.values, **kwargs)\n",
      "/home/narunlab/anaconda3/envs/python11env/lib/python3.11/site-packages/pandas/core/internals/blocks.py:351: RuntimeWarning: divide by zero encountered in arctanh\n",
      "  result = func(self.values, **kwargs)\n",
      "/home/narunlab/anaconda3/envs/python11env/lib/python3.11/site-packages/pandas/core/internals/blocks.py:351: RuntimeWarning: divide by zero encountered in arctanh\n",
      "  result = func(self.values, **kwargs)\n",
      "/home/narunlab/anaconda3/envs/python11env/lib/python3.11/site-packages/pandas/core/internals/blocks.py:351: RuntimeWarning: divide by zero encountered in arctanh\n",
      "  result = func(self.values, **kwargs)\n"
     ]
    },
    {
     "name": "stderr",
     "output_type": "stream",
     "text": [
      "/home/narunlab/anaconda3/envs/python11env/lib/python3.11/site-packages/pandas/core/internals/blocks.py:351: RuntimeWarning: divide by zero encountered in arctanh\n",
      "  result = func(self.values, **kwargs)\n",
      "/home/narunlab/anaconda3/envs/python11env/lib/python3.11/site-packages/pandas/core/internals/blocks.py:351: RuntimeWarning: divide by zero encountered in arctanh\n",
      "  result = func(self.values, **kwargs)\n",
      "/home/narunlab/anaconda3/envs/python11env/lib/python3.11/site-packages/pandas/core/internals/blocks.py:351: RuntimeWarning: divide by zero encountered in arctanh\n",
      "  result = func(self.values, **kwargs)\n",
      "/home/narunlab/anaconda3/envs/python11env/lib/python3.11/site-packages/pandas/core/internals/blocks.py:351: RuntimeWarning: divide by zero encountered in arctanh\n",
      "  result = func(self.values, **kwargs)\n",
      "/home/narunlab/anaconda3/envs/python11env/lib/python3.11/site-packages/pandas/core/internals/blocks.py:351: RuntimeWarning: divide by zero encountered in arctanh\n",
      "  result = func(self.values, **kwargs)\n",
      "/home/narunlab/anaconda3/envs/python11env/lib/python3.11/site-packages/pandas/core/internals/blocks.py:351: RuntimeWarning: divide by zero encountered in arctanh\n",
      "  result = func(self.values, **kwargs)\n",
      "/home/narunlab/anaconda3/envs/python11env/lib/python3.11/site-packages/pandas/core/internals/blocks.py:351: RuntimeWarning: divide by zero encountered in arctanh\n",
      "  result = func(self.values, **kwargs)\n",
      "/home/narunlab/anaconda3/envs/python11env/lib/python3.11/site-packages/pandas/core/internals/blocks.py:351: RuntimeWarning: divide by zero encountered in arctanh\n",
      "  result = func(self.values, **kwargs)\n",
      "/home/narunlab/anaconda3/envs/python11env/lib/python3.11/site-packages/pandas/core/internals/blocks.py:351: RuntimeWarning: divide by zero encountered in arctanh\n",
      "  result = func(self.values, **kwargs)\n",
      "/home/narunlab/anaconda3/envs/python11env/lib/python3.11/site-packages/pandas/core/internals/blocks.py:351: RuntimeWarning: divide by zero encountered in arctanh\n",
      "  result = func(self.values, **kwargs)\n",
      "/home/narunlab/anaconda3/envs/python11env/lib/python3.11/site-packages/pandas/core/internals/blocks.py:351: RuntimeWarning: divide by zero encountered in arctanh\n",
      "  result = func(self.values, **kwargs)\n",
      "/home/narunlab/anaconda3/envs/python11env/lib/python3.11/site-packages/pandas/core/internals/blocks.py:351: RuntimeWarning: divide by zero encountered in arctanh\n",
      "  result = func(self.values, **kwargs)\n",
      "/home/narunlab/anaconda3/envs/python11env/lib/python3.11/site-packages/pandas/core/internals/blocks.py:351: RuntimeWarning: divide by zero encountered in arctanh\n",
      "  result = func(self.values, **kwargs)\n",
      "/home/narunlab/anaconda3/envs/python11env/lib/python3.11/site-packages/pandas/core/internals/blocks.py:351: RuntimeWarning: divide by zero encountered in arctanh\n",
      "  result = func(self.values, **kwargs)\n",
      "/home/narunlab/anaconda3/envs/python11env/lib/python3.11/site-packages/pandas/core/internals/blocks.py:351: RuntimeWarning: divide by zero encountered in arctanh\n",
      "  result = func(self.values, **kwargs)\n",
      "/home/narunlab/anaconda3/envs/python11env/lib/python3.11/site-packages/pandas/core/internals/blocks.py:351: RuntimeWarning: divide by zero encountered in arctanh\n",
      "  result = func(self.values, **kwargs)\n",
      "/home/narunlab/anaconda3/envs/python11env/lib/python3.11/site-packages/pandas/core/internals/blocks.py:351: RuntimeWarning: divide by zero encountered in arctanh\n",
      "  result = func(self.values, **kwargs)\n",
      "/home/narunlab/anaconda3/envs/python11env/lib/python3.11/site-packages/pandas/core/internals/blocks.py:351: RuntimeWarning: divide by zero encountered in arctanh\n",
      "  result = func(self.values, **kwargs)\n",
      "/home/narunlab/anaconda3/envs/python11env/lib/python3.11/site-packages/pandas/core/internals/blocks.py:351: RuntimeWarning: divide by zero encountered in arctanh\n",
      "  result = func(self.values, **kwargs)\n",
      "/home/narunlab/anaconda3/envs/python11env/lib/python3.11/site-packages/pandas/core/internals/blocks.py:351: RuntimeWarning: divide by zero encountered in arctanh\n",
      "  result = func(self.values, **kwargs)\n",
      "/home/narunlab/anaconda3/envs/python11env/lib/python3.11/site-packages/pandas/core/internals/blocks.py:351: RuntimeWarning: divide by zero encountered in arctanh\n",
      "  result = func(self.values, **kwargs)\n",
      "/home/narunlab/anaconda3/envs/python11env/lib/python3.11/site-packages/pandas/core/internals/blocks.py:351: RuntimeWarning: divide by zero encountered in arctanh\n",
      "  result = func(self.values, **kwargs)\n",
      "/home/narunlab/anaconda3/envs/python11env/lib/python3.11/site-packages/pandas/core/internals/blocks.py:351: RuntimeWarning: divide by zero encountered in arctanh\n",
      "  result = func(self.values, **kwargs)\n",
      "/home/narunlab/anaconda3/envs/python11env/lib/python3.11/site-packages/pandas/core/internals/blocks.py:351: RuntimeWarning: divide by zero encountered in arctanh\n",
      "  result = func(self.values, **kwargs)\n",
      "/home/narunlab/anaconda3/envs/python11env/lib/python3.11/site-packages/pandas/core/internals/blocks.py:351: RuntimeWarning: divide by zero encountered in arctanh\n",
      "  result = func(self.values, **kwargs)\n",
      "/home/narunlab/anaconda3/envs/python11env/lib/python3.11/site-packages/pandas/core/internals/blocks.py:351: RuntimeWarning: divide by zero encountered in arctanh\n",
      "  result = func(self.values, **kwargs)\n",
      "/home/narunlab/anaconda3/envs/python11env/lib/python3.11/site-packages/pandas/core/internals/blocks.py:351: RuntimeWarning: divide by zero encountered in arctanh\n",
      "  result = func(self.values, **kwargs)\n",
      "/home/narunlab/anaconda3/envs/python11env/lib/python3.11/site-packages/pandas/core/internals/blocks.py:351: RuntimeWarning: divide by zero encountered in arctanh\n",
      "  result = func(self.values, **kwargs)\n",
      "/home/narunlab/anaconda3/envs/python11env/lib/python3.11/site-packages/pandas/core/internals/blocks.py:351: RuntimeWarning: divide by zero encountered in arctanh\n",
      "  result = func(self.values, **kwargs)\n",
      "/home/narunlab/anaconda3/envs/python11env/lib/python3.11/site-packages/pandas/core/internals/blocks.py:351: RuntimeWarning: divide by zero encountered in arctanh\n",
      "  result = func(self.values, **kwargs)\n",
      "/home/narunlab/anaconda3/envs/python11env/lib/python3.11/site-packages/pandas/core/internals/blocks.py:351: RuntimeWarning: divide by zero encountered in arctanh\n",
      "  result = func(self.values, **kwargs)\n",
      "/home/narunlab/anaconda3/envs/python11env/lib/python3.11/site-packages/pandas/core/internals/blocks.py:351: RuntimeWarning: divide by zero encountered in arctanh\n",
      "  result = func(self.values, **kwargs)\n",
      "/home/narunlab/anaconda3/envs/python11env/lib/python3.11/site-packages/pandas/core/internals/blocks.py:351: RuntimeWarning: divide by zero encountered in arctanh\n",
      "  result = func(self.values, **kwargs)\n",
      "/home/narunlab/anaconda3/envs/python11env/lib/python3.11/site-packages/pandas/core/internals/blocks.py:351: RuntimeWarning: divide by zero encountered in arctanh\n",
      "  result = func(self.values, **kwargs)\n",
      "/home/narunlab/anaconda3/envs/python11env/lib/python3.11/site-packages/pandas/core/internals/blocks.py:351: RuntimeWarning: divide by zero encountered in arctanh\n",
      "  result = func(self.values, **kwargs)\n",
      "/home/narunlab/anaconda3/envs/python11env/lib/python3.11/site-packages/pandas/core/internals/blocks.py:351: RuntimeWarning: divide by zero encountered in arctanh\n",
      "  result = func(self.values, **kwargs)\n",
      "/home/narunlab/anaconda3/envs/python11env/lib/python3.11/site-packages/pandas/core/internals/blocks.py:351: RuntimeWarning: divide by zero encountered in arctanh\n",
      "  result = func(self.values, **kwargs)\n",
      "/home/narunlab/anaconda3/envs/python11env/lib/python3.11/site-packages/pandas/core/internals/blocks.py:351: RuntimeWarning: divide by zero encountered in arctanh\n",
      "  result = func(self.values, **kwargs)\n",
      "/home/narunlab/anaconda3/envs/python11env/lib/python3.11/site-packages/pandas/core/internals/blocks.py:351: RuntimeWarning: divide by zero encountered in arctanh\n",
      "  result = func(self.values, **kwargs)\n",
      "/home/narunlab/anaconda3/envs/python11env/lib/python3.11/site-packages/pandas/core/internals/blocks.py:351: RuntimeWarning: divide by zero encountered in arctanh\n",
      "  result = func(self.values, **kwargs)\n",
      "/home/narunlab/anaconda3/envs/python11env/lib/python3.11/site-packages/pandas/core/internals/blocks.py:351: RuntimeWarning: divide by zero encountered in arctanh\n",
      "  result = func(self.values, **kwargs)\n",
      "/home/narunlab/anaconda3/envs/python11env/lib/python3.11/site-packages/pandas/core/internals/blocks.py:351: RuntimeWarning: divide by zero encountered in arctanh\n",
      "  result = func(self.values, **kwargs)\n"
     ]
    },
    {
     "name": "stderr",
     "output_type": "stream",
     "text": [
      "/home/narunlab/anaconda3/envs/python11env/lib/python3.11/site-packages/pandas/core/internals/blocks.py:351: RuntimeWarning: divide by zero encountered in arctanh\n",
      "  result = func(self.values, **kwargs)\n",
      "/home/narunlab/anaconda3/envs/python11env/lib/python3.11/site-packages/pandas/core/internals/blocks.py:351: RuntimeWarning: divide by zero encountered in arctanh\n",
      "  result = func(self.values, **kwargs)\n",
      "/home/narunlab/anaconda3/envs/python11env/lib/python3.11/site-packages/pandas/core/internals/blocks.py:351: RuntimeWarning: divide by zero encountered in arctanh\n",
      "  result = func(self.values, **kwargs)\n",
      "/home/narunlab/anaconda3/envs/python11env/lib/python3.11/site-packages/pandas/core/internals/blocks.py:351: RuntimeWarning: divide by zero encountered in arctanh\n",
      "  result = func(self.values, **kwargs)\n",
      "/home/narunlab/anaconda3/envs/python11env/lib/python3.11/site-packages/pandas/core/internals/blocks.py:351: RuntimeWarning: divide by zero encountered in arctanh\n",
      "  result = func(self.values, **kwargs)\n",
      "/home/narunlab/anaconda3/envs/python11env/lib/python3.11/site-packages/pandas/core/internals/blocks.py:351: RuntimeWarning: divide by zero encountered in arctanh\n",
      "  result = func(self.values, **kwargs)\n",
      "/home/narunlab/anaconda3/envs/python11env/lib/python3.11/site-packages/pandas/core/internals/blocks.py:351: RuntimeWarning: divide by zero encountered in arctanh\n",
      "  result = func(self.values, **kwargs)\n",
      "/home/narunlab/anaconda3/envs/python11env/lib/python3.11/site-packages/pandas/core/internals/blocks.py:351: RuntimeWarning: divide by zero encountered in arctanh\n",
      "  result = func(self.values, **kwargs)\n",
      "/home/narunlab/anaconda3/envs/python11env/lib/python3.11/site-packages/pandas/core/internals/blocks.py:351: RuntimeWarning: divide by zero encountered in arctanh\n",
      "  result = func(self.values, **kwargs)\n",
      "/home/narunlab/anaconda3/envs/python11env/lib/python3.11/site-packages/pandas/core/internals/blocks.py:351: RuntimeWarning: divide by zero encountered in arctanh\n",
      "  result = func(self.values, **kwargs)\n",
      "/home/narunlab/anaconda3/envs/python11env/lib/python3.11/site-packages/pandas/core/internals/blocks.py:351: RuntimeWarning: divide by zero encountered in arctanh\n",
      "  result = func(self.values, **kwargs)\n",
      "/home/narunlab/anaconda3/envs/python11env/lib/python3.11/site-packages/pandas/core/internals/blocks.py:351: RuntimeWarning: divide by zero encountered in arctanh\n",
      "  result = func(self.values, **kwargs)\n",
      "/home/narunlab/anaconda3/envs/python11env/lib/python3.11/site-packages/pandas/core/internals/blocks.py:351: RuntimeWarning: divide by zero encountered in arctanh\n",
      "  result = func(self.values, **kwargs)\n",
      "/home/narunlab/anaconda3/envs/python11env/lib/python3.11/site-packages/pandas/core/internals/blocks.py:351: RuntimeWarning: divide by zero encountered in arctanh\n",
      "  result = func(self.values, **kwargs)\n",
      "/home/narunlab/anaconda3/envs/python11env/lib/python3.11/site-packages/pandas/core/internals/blocks.py:351: RuntimeWarning: divide by zero encountered in arctanh\n",
      "  result = func(self.values, **kwargs)\n",
      "/home/narunlab/anaconda3/envs/python11env/lib/python3.11/site-packages/pandas/core/internals/blocks.py:351: RuntimeWarning: divide by zero encountered in arctanh\n",
      "  result = func(self.values, **kwargs)\n",
      "/home/narunlab/anaconda3/envs/python11env/lib/python3.11/site-packages/pandas/core/internals/blocks.py:351: RuntimeWarning: divide by zero encountered in arctanh\n",
      "  result = func(self.values, **kwargs)\n",
      "/home/narunlab/anaconda3/envs/python11env/lib/python3.11/site-packages/pandas/core/internals/blocks.py:351: RuntimeWarning: divide by zero encountered in arctanh\n",
      "  result = func(self.values, **kwargs)\n",
      "/home/narunlab/anaconda3/envs/python11env/lib/python3.11/site-packages/pandas/core/internals/blocks.py:351: RuntimeWarning: divide by zero encountered in arctanh\n",
      "  result = func(self.values, **kwargs)\n",
      "/home/narunlab/anaconda3/envs/python11env/lib/python3.11/site-packages/pandas/core/internals/blocks.py:351: RuntimeWarning: divide by zero encountered in arctanh\n",
      "  result = func(self.values, **kwargs)\n",
      "/home/narunlab/anaconda3/envs/python11env/lib/python3.11/site-packages/pandas/core/internals/blocks.py:351: RuntimeWarning: divide by zero encountered in arctanh\n",
      "  result = func(self.values, **kwargs)\n",
      "/home/narunlab/anaconda3/envs/python11env/lib/python3.11/site-packages/pandas/core/internals/blocks.py:351: RuntimeWarning: divide by zero encountered in arctanh\n",
      "  result = func(self.values, **kwargs)\n",
      "/home/narunlab/anaconda3/envs/python11env/lib/python3.11/site-packages/pandas/core/internals/blocks.py:351: RuntimeWarning: divide by zero encountered in arctanh\n",
      "  result = func(self.values, **kwargs)\n",
      "/home/narunlab/anaconda3/envs/python11env/lib/python3.11/site-packages/pandas/core/internals/blocks.py:351: RuntimeWarning: divide by zero encountered in arctanh\n",
      "  result = func(self.values, **kwargs)\n",
      "/home/narunlab/anaconda3/envs/python11env/lib/python3.11/site-packages/pandas/core/internals/blocks.py:351: RuntimeWarning: divide by zero encountered in arctanh\n",
      "  result = func(self.values, **kwargs)\n",
      "/home/narunlab/anaconda3/envs/python11env/lib/python3.11/site-packages/pandas/core/internals/blocks.py:351: RuntimeWarning: divide by zero encountered in arctanh\n",
      "  result = func(self.values, **kwargs)\n",
      "/home/narunlab/anaconda3/envs/python11env/lib/python3.11/site-packages/pandas/core/internals/blocks.py:351: RuntimeWarning: divide by zero encountered in arctanh\n",
      "  result = func(self.values, **kwargs)\n",
      "/home/narunlab/anaconda3/envs/python11env/lib/python3.11/site-packages/pandas/core/internals/blocks.py:351: RuntimeWarning: divide by zero encountered in arctanh\n",
      "  result = func(self.values, **kwargs)\n",
      "/home/narunlab/anaconda3/envs/python11env/lib/python3.11/site-packages/pandas/core/internals/blocks.py:351: RuntimeWarning: divide by zero encountered in arctanh\n",
      "  result = func(self.values, **kwargs)\n",
      "/home/narunlab/anaconda3/envs/python11env/lib/python3.11/site-packages/pandas/core/internals/blocks.py:351: RuntimeWarning: divide by zero encountered in arctanh\n",
      "  result = func(self.values, **kwargs)\n",
      "/home/narunlab/anaconda3/envs/python11env/lib/python3.11/site-packages/pandas/core/internals/blocks.py:351: RuntimeWarning: divide by zero encountered in arctanh\n",
      "  result = func(self.values, **kwargs)\n",
      "/home/narunlab/anaconda3/envs/python11env/lib/python3.11/site-packages/pandas/core/internals/blocks.py:351: RuntimeWarning: divide by zero encountered in arctanh\n",
      "  result = func(self.values, **kwargs)\n",
      "/home/narunlab/anaconda3/envs/python11env/lib/python3.11/site-packages/pandas/core/internals/blocks.py:351: RuntimeWarning: divide by zero encountered in arctanh\n",
      "  result = func(self.values, **kwargs)\n",
      "/home/narunlab/anaconda3/envs/python11env/lib/python3.11/site-packages/pandas/core/internals/blocks.py:351: RuntimeWarning: divide by zero encountered in arctanh\n",
      "  result = func(self.values, **kwargs)\n",
      "/home/narunlab/anaconda3/envs/python11env/lib/python3.11/site-packages/pandas/core/internals/blocks.py:351: RuntimeWarning: divide by zero encountered in arctanh\n",
      "  result = func(self.values, **kwargs)\n",
      "/home/narunlab/anaconda3/envs/python11env/lib/python3.11/site-packages/pandas/core/internals/blocks.py:351: RuntimeWarning: divide by zero encountered in arctanh\n",
      "  result = func(self.values, **kwargs)\n",
      "/home/narunlab/anaconda3/envs/python11env/lib/python3.11/site-packages/pandas/core/internals/blocks.py:351: RuntimeWarning: divide by zero encountered in arctanh\n",
      "  result = func(self.values, **kwargs)\n",
      "/home/narunlab/anaconda3/envs/python11env/lib/python3.11/site-packages/pandas/core/internals/blocks.py:351: RuntimeWarning: divide by zero encountered in arctanh\n",
      "  result = func(self.values, **kwargs)\n",
      "/home/narunlab/anaconda3/envs/python11env/lib/python3.11/site-packages/pandas/core/internals/blocks.py:351: RuntimeWarning: divide by zero encountered in arctanh\n",
      "  result = func(self.values, **kwargs)\n",
      "/home/narunlab/anaconda3/envs/python11env/lib/python3.11/site-packages/pandas/core/internals/blocks.py:351: RuntimeWarning: divide by zero encountered in arctanh\n",
      "  result = func(self.values, **kwargs)\n",
      "/home/narunlab/anaconda3/envs/python11env/lib/python3.11/site-packages/pandas/core/internals/blocks.py:351: RuntimeWarning: divide by zero encountered in arctanh\n",
      "  result = func(self.values, **kwargs)\n",
      "/home/narunlab/anaconda3/envs/python11env/lib/python3.11/site-packages/pandas/core/internals/blocks.py:351: RuntimeWarning: divide by zero encountered in arctanh\n",
      "  result = func(self.values, **kwargs)\n"
     ]
    },
    {
     "name": "stderr",
     "output_type": "stream",
     "text": [
      "/home/narunlab/anaconda3/envs/python11env/lib/python3.11/site-packages/pandas/core/internals/blocks.py:351: RuntimeWarning: divide by zero encountered in arctanh\n",
      "  result = func(self.values, **kwargs)\n",
      "/home/narunlab/anaconda3/envs/python11env/lib/python3.11/site-packages/pandas/core/internals/blocks.py:351: RuntimeWarning: divide by zero encountered in arctanh\n",
      "  result = func(self.values, **kwargs)\n",
      "/home/narunlab/anaconda3/envs/python11env/lib/python3.11/site-packages/pandas/core/internals/blocks.py:351: RuntimeWarning: divide by zero encountered in arctanh\n",
      "  result = func(self.values, **kwargs)\n",
      "/home/narunlab/anaconda3/envs/python11env/lib/python3.11/site-packages/pandas/core/internals/blocks.py:351: RuntimeWarning: divide by zero encountered in arctanh\n",
      "  result = func(self.values, **kwargs)\n",
      "/home/narunlab/anaconda3/envs/python11env/lib/python3.11/site-packages/pandas/core/internals/blocks.py:351: RuntimeWarning: divide by zero encountered in arctanh\n",
      "  result = func(self.values, **kwargs)\n",
      "/home/narunlab/anaconda3/envs/python11env/lib/python3.11/site-packages/pandas/core/internals/blocks.py:351: RuntimeWarning: divide by zero encountered in arctanh\n",
      "  result = func(self.values, **kwargs)\n",
      "/home/narunlab/anaconda3/envs/python11env/lib/python3.11/site-packages/pandas/core/internals/blocks.py:351: RuntimeWarning: divide by zero encountered in arctanh\n",
      "  result = func(self.values, **kwargs)\n",
      "/home/narunlab/anaconda3/envs/python11env/lib/python3.11/site-packages/pandas/core/internals/blocks.py:351: RuntimeWarning: divide by zero encountered in arctanh\n",
      "  result = func(self.values, **kwargs)\n",
      "/home/narunlab/anaconda3/envs/python11env/lib/python3.11/site-packages/pandas/core/internals/blocks.py:351: RuntimeWarning: divide by zero encountered in arctanh\n",
      "  result = func(self.values, **kwargs)\n",
      "/home/narunlab/anaconda3/envs/python11env/lib/python3.11/site-packages/pandas/core/internals/blocks.py:351: RuntimeWarning: divide by zero encountered in arctanh\n",
      "  result = func(self.values, **kwargs)\n",
      "/home/narunlab/anaconda3/envs/python11env/lib/python3.11/site-packages/pandas/core/internals/blocks.py:351: RuntimeWarning: divide by zero encountered in arctanh\n",
      "  result = func(self.values, **kwargs)\n",
      "/home/narunlab/anaconda3/envs/python11env/lib/python3.11/site-packages/pandas/core/internals/blocks.py:351: RuntimeWarning: divide by zero encountered in arctanh\n",
      "  result = func(self.values, **kwargs)\n",
      "/home/narunlab/anaconda3/envs/python11env/lib/python3.11/site-packages/pandas/core/internals/blocks.py:351: RuntimeWarning: divide by zero encountered in arctanh\n",
      "  result = func(self.values, **kwargs)\n",
      "/home/narunlab/anaconda3/envs/python11env/lib/python3.11/site-packages/pandas/core/internals/blocks.py:351: RuntimeWarning: divide by zero encountered in arctanh\n",
      "  result = func(self.values, **kwargs)\n",
      "/home/narunlab/anaconda3/envs/python11env/lib/python3.11/site-packages/pandas/core/internals/blocks.py:351: RuntimeWarning: divide by zero encountered in arctanh\n",
      "  result = func(self.values, **kwargs)\n",
      "/home/narunlab/anaconda3/envs/python11env/lib/python3.11/site-packages/pandas/core/internals/blocks.py:351: RuntimeWarning: divide by zero encountered in arctanh\n",
      "  result = func(self.values, **kwargs)\n",
      "/home/narunlab/anaconda3/envs/python11env/lib/python3.11/site-packages/pandas/core/internals/blocks.py:351: RuntimeWarning: divide by zero encountered in arctanh\n",
      "  result = func(self.values, **kwargs)\n",
      "/home/narunlab/anaconda3/envs/python11env/lib/python3.11/site-packages/pandas/core/internals/blocks.py:351: RuntimeWarning: divide by zero encountered in arctanh\n",
      "  result = func(self.values, **kwargs)\n",
      "/home/narunlab/anaconda3/envs/python11env/lib/python3.11/site-packages/pandas/core/internals/blocks.py:351: RuntimeWarning: divide by zero encountered in arctanh\n",
      "  result = func(self.values, **kwargs)\n",
      "/home/narunlab/anaconda3/envs/python11env/lib/python3.11/site-packages/pandas/core/internals/blocks.py:351: RuntimeWarning: divide by zero encountered in arctanh\n",
      "  result = func(self.values, **kwargs)\n",
      "/home/narunlab/anaconda3/envs/python11env/lib/python3.11/site-packages/pandas/core/internals/blocks.py:351: RuntimeWarning: divide by zero encountered in arctanh\n",
      "  result = func(self.values, **kwargs)\n",
      "/home/narunlab/anaconda3/envs/python11env/lib/python3.11/site-packages/pandas/core/internals/blocks.py:351: RuntimeWarning: divide by zero encountered in arctanh\n",
      "  result = func(self.values, **kwargs)\n",
      "/home/narunlab/anaconda3/envs/python11env/lib/python3.11/site-packages/pandas/core/internals/blocks.py:351: RuntimeWarning: divide by zero encountered in arctanh\n",
      "  result = func(self.values, **kwargs)\n",
      "/home/narunlab/anaconda3/envs/python11env/lib/python3.11/site-packages/pandas/core/internals/blocks.py:351: RuntimeWarning: divide by zero encountered in arctanh\n",
      "  result = func(self.values, **kwargs)\n",
      "/home/narunlab/anaconda3/envs/python11env/lib/python3.11/site-packages/pandas/core/internals/blocks.py:351: RuntimeWarning: divide by zero encountered in arctanh\n",
      "  result = func(self.values, **kwargs)\n",
      "/home/narunlab/anaconda3/envs/python11env/lib/python3.11/site-packages/pandas/core/internals/blocks.py:351: RuntimeWarning: divide by zero encountered in arctanh\n",
      "  result = func(self.values, **kwargs)\n",
      "/home/narunlab/anaconda3/envs/python11env/lib/python3.11/site-packages/pandas/core/internals/blocks.py:351: RuntimeWarning: divide by zero encountered in arctanh\n",
      "  result = func(self.values, **kwargs)\n",
      "/home/narunlab/anaconda3/envs/python11env/lib/python3.11/site-packages/pandas/core/internals/blocks.py:351: RuntimeWarning: divide by zero encountered in arctanh\n",
      "  result = func(self.values, **kwargs)\n",
      "/home/narunlab/anaconda3/envs/python11env/lib/python3.11/site-packages/pandas/core/internals/blocks.py:351: RuntimeWarning: divide by zero encountered in arctanh\n",
      "  result = func(self.values, **kwargs)\n",
      "/home/narunlab/anaconda3/envs/python11env/lib/python3.11/site-packages/pandas/core/internals/blocks.py:351: RuntimeWarning: divide by zero encountered in arctanh\n",
      "  result = func(self.values, **kwargs)\n",
      "/home/narunlab/anaconda3/envs/python11env/lib/python3.11/site-packages/pandas/core/internals/blocks.py:351: RuntimeWarning: divide by zero encountered in arctanh\n",
      "  result = func(self.values, **kwargs)\n",
      "/home/narunlab/anaconda3/envs/python11env/lib/python3.11/site-packages/pandas/core/internals/blocks.py:351: RuntimeWarning: divide by zero encountered in arctanh\n",
      "  result = func(self.values, **kwargs)\n",
      "/home/narunlab/anaconda3/envs/python11env/lib/python3.11/site-packages/pandas/core/internals/blocks.py:351: RuntimeWarning: divide by zero encountered in arctanh\n",
      "  result = func(self.values, **kwargs)\n",
      "/home/narunlab/anaconda3/envs/python11env/lib/python3.11/site-packages/pandas/core/internals/blocks.py:351: RuntimeWarning: divide by zero encountered in arctanh\n",
      "  result = func(self.values, **kwargs)\n",
      "/home/narunlab/anaconda3/envs/python11env/lib/python3.11/site-packages/pandas/core/internals/blocks.py:351: RuntimeWarning: divide by zero encountered in arctanh\n",
      "  result = func(self.values, **kwargs)\n",
      "/home/narunlab/anaconda3/envs/python11env/lib/python3.11/site-packages/pandas/core/internals/blocks.py:351: RuntimeWarning: divide by zero encountered in arctanh\n",
      "  result = func(self.values, **kwargs)\n",
      "/home/narunlab/anaconda3/envs/python11env/lib/python3.11/site-packages/pandas/core/internals/blocks.py:351: RuntimeWarning: divide by zero encountered in arctanh\n",
      "  result = func(self.values, **kwargs)\n",
      "/home/narunlab/anaconda3/envs/python11env/lib/python3.11/site-packages/pandas/core/internals/blocks.py:351: RuntimeWarning: divide by zero encountered in arctanh\n",
      "  result = func(self.values, **kwargs)\n",
      "/home/narunlab/anaconda3/envs/python11env/lib/python3.11/site-packages/pandas/core/internals/blocks.py:351: RuntimeWarning: divide by zero encountered in arctanh\n",
      "  result = func(self.values, **kwargs)\n",
      "/home/narunlab/anaconda3/envs/python11env/lib/python3.11/site-packages/pandas/core/internals/blocks.py:351: RuntimeWarning: divide by zero encountered in arctanh\n",
      "  result = func(self.values, **kwargs)\n",
      "/home/narunlab/anaconda3/envs/python11env/lib/python3.11/site-packages/pandas/core/internals/blocks.py:351: RuntimeWarning: divide by zero encountered in arctanh\n",
      "  result = func(self.values, **kwargs)\n"
     ]
    },
    {
     "name": "stderr",
     "output_type": "stream",
     "text": [
      "/home/narunlab/anaconda3/envs/python11env/lib/python3.11/site-packages/pandas/core/internals/blocks.py:351: RuntimeWarning: divide by zero encountered in arctanh\n",
      "  result = func(self.values, **kwargs)\n",
      "/home/narunlab/anaconda3/envs/python11env/lib/python3.11/site-packages/pandas/core/internals/blocks.py:351: RuntimeWarning: divide by zero encountered in arctanh\n",
      "  result = func(self.values, **kwargs)\n",
      "/home/narunlab/anaconda3/envs/python11env/lib/python3.11/site-packages/pandas/core/internals/blocks.py:351: RuntimeWarning: divide by zero encountered in arctanh\n",
      "  result = func(self.values, **kwargs)\n",
      "/home/narunlab/anaconda3/envs/python11env/lib/python3.11/site-packages/pandas/core/internals/blocks.py:351: RuntimeWarning: divide by zero encountered in arctanh\n",
      "  result = func(self.values, **kwargs)\n",
      "/home/narunlab/anaconda3/envs/python11env/lib/python3.11/site-packages/pandas/core/internals/blocks.py:351: RuntimeWarning: divide by zero encountered in arctanh\n",
      "  result = func(self.values, **kwargs)\n",
      "/home/narunlab/anaconda3/envs/python11env/lib/python3.11/site-packages/pandas/core/internals/blocks.py:351: RuntimeWarning: divide by zero encountered in arctanh\n",
      "  result = func(self.values, **kwargs)\n",
      "/home/narunlab/anaconda3/envs/python11env/lib/python3.11/site-packages/pandas/core/internals/blocks.py:351: RuntimeWarning: divide by zero encountered in arctanh\n",
      "  result = func(self.values, **kwargs)\n",
      "/home/narunlab/anaconda3/envs/python11env/lib/python3.11/site-packages/pandas/core/internals/blocks.py:351: RuntimeWarning: divide by zero encountered in arctanh\n",
      "  result = func(self.values, **kwargs)\n",
      "/home/narunlab/anaconda3/envs/python11env/lib/python3.11/site-packages/pandas/core/internals/blocks.py:351: RuntimeWarning: divide by zero encountered in arctanh\n",
      "  result = func(self.values, **kwargs)\n",
      "/home/narunlab/anaconda3/envs/python11env/lib/python3.11/site-packages/pandas/core/internals/blocks.py:351: RuntimeWarning: divide by zero encountered in arctanh\n",
      "  result = func(self.values, **kwargs)\n",
      "/home/narunlab/anaconda3/envs/python11env/lib/python3.11/site-packages/pandas/core/internals/blocks.py:351: RuntimeWarning: divide by zero encountered in arctanh\n",
      "  result = func(self.values, **kwargs)\n",
      "/home/narunlab/anaconda3/envs/python11env/lib/python3.11/site-packages/pandas/core/internals/blocks.py:351: RuntimeWarning: divide by zero encountered in arctanh\n",
      "  result = func(self.values, **kwargs)\n",
      "/home/narunlab/anaconda3/envs/python11env/lib/python3.11/site-packages/pandas/core/internals/blocks.py:351: RuntimeWarning: divide by zero encountered in arctanh\n",
      "  result = func(self.values, **kwargs)\n",
      "/home/narunlab/anaconda3/envs/python11env/lib/python3.11/site-packages/pandas/core/internals/blocks.py:351: RuntimeWarning: divide by zero encountered in arctanh\n",
      "  result = func(self.values, **kwargs)\n",
      "/home/narunlab/anaconda3/envs/python11env/lib/python3.11/site-packages/pandas/core/internals/blocks.py:351: RuntimeWarning: divide by zero encountered in arctanh\n",
      "  result = func(self.values, **kwargs)\n",
      "/home/narunlab/anaconda3/envs/python11env/lib/python3.11/site-packages/pandas/core/internals/blocks.py:351: RuntimeWarning: divide by zero encountered in arctanh\n",
      "  result = func(self.values, **kwargs)\n",
      "/home/narunlab/anaconda3/envs/python11env/lib/python3.11/site-packages/pandas/core/internals/blocks.py:351: RuntimeWarning: divide by zero encountered in arctanh\n",
      "  result = func(self.values, **kwargs)\n",
      "/home/narunlab/anaconda3/envs/python11env/lib/python3.11/site-packages/pandas/core/internals/blocks.py:351: RuntimeWarning: divide by zero encountered in arctanh\n",
      "  result = func(self.values, **kwargs)\n",
      "/home/narunlab/anaconda3/envs/python11env/lib/python3.11/site-packages/pandas/core/internals/blocks.py:351: RuntimeWarning: divide by zero encountered in arctanh\n",
      "  result = func(self.values, **kwargs)\n",
      "/home/narunlab/anaconda3/envs/python11env/lib/python3.11/site-packages/pandas/core/internals/blocks.py:351: RuntimeWarning: divide by zero encountered in arctanh\n",
      "  result = func(self.values, **kwargs)\n",
      "/home/narunlab/anaconda3/envs/python11env/lib/python3.11/site-packages/pandas/core/internals/blocks.py:351: RuntimeWarning: divide by zero encountered in arctanh\n",
      "  result = func(self.values, **kwargs)\n",
      "/home/narunlab/anaconda3/envs/python11env/lib/python3.11/site-packages/pandas/core/internals/blocks.py:351: RuntimeWarning: divide by zero encountered in arctanh\n",
      "  result = func(self.values, **kwargs)\n",
      "/home/narunlab/anaconda3/envs/python11env/lib/python3.11/site-packages/pandas/core/internals/blocks.py:351: RuntimeWarning: divide by zero encountered in arctanh\n",
      "  result = func(self.values, **kwargs)\n",
      "/home/narunlab/anaconda3/envs/python11env/lib/python3.11/site-packages/pandas/core/internals/blocks.py:351: RuntimeWarning: divide by zero encountered in arctanh\n",
      "  result = func(self.values, **kwargs)\n",
      "/home/narunlab/anaconda3/envs/python11env/lib/python3.11/site-packages/pandas/core/internals/blocks.py:351: RuntimeWarning: divide by zero encountered in arctanh\n",
      "  result = func(self.values, **kwargs)\n",
      "/home/narunlab/anaconda3/envs/python11env/lib/python3.11/site-packages/pandas/core/internals/blocks.py:351: RuntimeWarning: divide by zero encountered in arctanh\n",
      "  result = func(self.values, **kwargs)\n",
      "/home/narunlab/anaconda3/envs/python11env/lib/python3.11/site-packages/pandas/core/internals/blocks.py:351: RuntimeWarning: divide by zero encountered in arctanh\n",
      "  result = func(self.values, **kwargs)\n",
      "/home/narunlab/anaconda3/envs/python11env/lib/python3.11/site-packages/pandas/core/internals/blocks.py:351: RuntimeWarning: divide by zero encountered in arctanh\n",
      "  result = func(self.values, **kwargs)\n",
      "/home/narunlab/anaconda3/envs/python11env/lib/python3.11/site-packages/pandas/core/internals/blocks.py:351: RuntimeWarning: divide by zero encountered in arctanh\n",
      "  result = func(self.values, **kwargs)\n",
      "/home/narunlab/anaconda3/envs/python11env/lib/python3.11/site-packages/pandas/core/internals/blocks.py:351: RuntimeWarning: divide by zero encountered in arctanh\n",
      "  result = func(self.values, **kwargs)\n",
      "/home/narunlab/anaconda3/envs/python11env/lib/python3.11/site-packages/pandas/core/internals/blocks.py:351: RuntimeWarning: divide by zero encountered in arctanh\n",
      "  result = func(self.values, **kwargs)\n",
      "/home/narunlab/anaconda3/envs/python11env/lib/python3.11/site-packages/pandas/core/internals/blocks.py:351: RuntimeWarning: divide by zero encountered in arctanh\n",
      "  result = func(self.values, **kwargs)\n",
      "/home/narunlab/anaconda3/envs/python11env/lib/python3.11/site-packages/pandas/core/internals/blocks.py:351: RuntimeWarning: divide by zero encountered in arctanh\n",
      "  result = func(self.values, **kwargs)\n",
      "/home/narunlab/anaconda3/envs/python11env/lib/python3.11/site-packages/pandas/core/internals/blocks.py:351: RuntimeWarning: divide by zero encountered in arctanh\n",
      "  result = func(self.values, **kwargs)\n",
      "/home/narunlab/anaconda3/envs/python11env/lib/python3.11/site-packages/pandas/core/internals/blocks.py:351: RuntimeWarning: divide by zero encountered in arctanh\n",
      "  result = func(self.values, **kwargs)\n",
      "/home/narunlab/anaconda3/envs/python11env/lib/python3.11/site-packages/pandas/core/internals/blocks.py:351: RuntimeWarning: divide by zero encountered in arctanh\n",
      "  result = func(self.values, **kwargs)\n",
      "/home/narunlab/anaconda3/envs/python11env/lib/python3.11/site-packages/pandas/core/internals/blocks.py:351: RuntimeWarning: divide by zero encountered in arctanh\n",
      "  result = func(self.values, **kwargs)\n"
     ]
    }
   ],
   "source": [
    "#concat signals and calculate correlation matrix for each task, flatten them into one row\n",
    "\n",
    "\n",
    "dct_mat_str = {}\n",
    "\n",
    "for subID in subIDs:\n",
    "    \n",
    "    if subID in retest_ids:\n",
    "\n",
    "        dct_mat_str[subID] = {}\n",
    "\n",
    "        for tkey in tkeys:\n",
    "            #combine RL and LR runs from the same tasks\n",
    "            df = pd.concat([dct_signls[subID][tkey+'_RL'], dct_signls[subID][tkey+'_LR']], axis=0, ignore_index=True)\n",
    "            \n",
    "            Xdfr_cor = df.corr() #create correlational matrix\n",
    "            Xdfr_corZ = np.arctanh(Xdfr_cor) #r-to-z\n",
    "            #transform matrix to string for the subject\n",
    "            dfg = Xdfr_corZ.where(np.triu(np.ones(Xdfr_corZ.shape), k=1).astype(bool)).stack().reset_index()\n",
    "            indx = [i+'_&_'+j for i,j in zip(dfg['level_0'], dfg['level_1'])]\n",
    "            fc_string = pd.Series(np.array(dfg[0]),index=indx) #a vector-like data for upper part of cor.matrix\n",
    "            \n",
    "            \n",
    "            dct_mat_str[subID][tkey] = fc_string\n",
    "            \n",
    "            "
   ]
  },
  {
   "cell_type": "code",
   "execution_count": 22,
   "id": "58f3ed1d",
   "metadata": {},
   "outputs": [],
   "source": [
    "fc_index_ord = dct_mat_str['103818']['GAMBLING'].index"
   ]
  },
  {
   "cell_type": "code",
   "execution_count": 23,
   "id": "b4960624",
   "metadata": {},
   "outputs": [],
   "source": [
    "#assemble group tables\n",
    "\n",
    "dct_mat = {}\n",
    "\n",
    "for tkey in tkeys:\n",
    "    \n",
    "    dct_mat[tkey] = {}\n",
    "    \n",
    "    for subID in sorted(dct_mat_str.keys()):\n",
    "        \n",
    "        dct_mat[tkey][subID] = dct_mat_str[subID][tkey]\n",
    "        \n",
    "    dct_mat[tkey] = pd.DataFrame(dct_mat[tkey]).T.reindex(columns=fc_index_ord)"
   ]
  },
  {
   "cell_type": "markdown",
   "id": "42fec48f",
   "metadata": {},
   "source": [
    "##### Save"
   ]
  },
  {
   "cell_type": "code",
   "execution_count": 24,
   "id": "93d1e0be",
   "metadata": {},
   "outputs": [],
   "source": [
    "for key in dct_mat.keys(): #['GAMBLING']\n",
    "    dct_mat[key].to_csv(out_tab+'Task_FC_'+key+'_group_z.csv')"
   ]
  },
  {
   "cell_type": "code",
   "execution_count": null,
   "id": "a6d9ecd6",
   "metadata": {},
   "outputs": [],
   "source": []
  },
  {
   "cell_type": "code",
   "execution_count": null,
   "id": "dae91060",
   "metadata": {},
   "outputs": [],
   "source": []
  },
  {
   "cell_type": "code",
   "execution_count": null,
   "id": "e5bfeeb8",
   "metadata": {},
   "outputs": [],
   "source": []
  },
  {
   "cell_type": "code",
   "execution_count": null,
   "id": "6e2c4b71",
   "metadata": {},
   "outputs": [],
   "source": []
  },
  {
   "cell_type": "code",
   "execution_count": 64,
   "id": "8f6d2efd",
   "metadata": {},
   "outputs": [],
   "source": [
    "img = nib.load('/media/hcs-psy-narun/HCP-YA-MICA-BIDS/derivatives/fmriprep/sub-183337/func/sub-183337_task-MOTOR_dir-LR_space-fsLR_den-91k_bold.dtseries.nii')"
   ]
  },
  {
   "cell_type": "code",
   "execution_count": 65,
   "id": "cc45b7e5",
   "metadata": {},
   "outputs": [],
   "source": [
    "X = img.get_fdata()"
   ]
  },
  {
   "cell_type": "code",
   "execution_count": 66,
   "id": "927d80d9",
   "metadata": {},
   "outputs": [
    {
     "data": {
      "text/plain": [
       "(284, 91282)"
      ]
     },
     "execution_count": 66,
     "metadata": {},
     "output_type": "execute_result"
    }
   ],
   "source": [
    "X.shape"
   ]
  },
  {
   "cell_type": "code",
   "execution_count": 67,
   "id": "6252d13e",
   "metadata": {},
   "outputs": [
    {
     "data": {
      "text/plain": [
       "204.48"
      ]
     },
     "execution_count": 67,
     "metadata": {},
     "output_type": "execute_result"
    }
   ],
   "source": [
    "284*0.72\n"
   ]
  },
  {
   "cell_type": "code",
   "execution_count": 68,
   "id": "de1ea4fd",
   "metadata": {},
   "outputs": [],
   "source": [
    "img = nib.load('/media/hcs-psy-narun/HCP-YA-MICA-BIDS/sub-183337/func/sub-183337_task-MOTOR_dir-RL_bold.nii.gz')"
   ]
  },
  {
   "cell_type": "code",
   "execution_count": 69,
   "id": "3792115e",
   "metadata": {},
   "outputs": [],
   "source": [
    "X = img.get_fdata()"
   ]
  },
  {
   "cell_type": "code",
   "execution_count": 70,
   "id": "b12627bc",
   "metadata": {},
   "outputs": [
    {
     "data": {
      "text/plain": [
       "(90, 104, 72, 284)"
      ]
     },
     "execution_count": 70,
     "metadata": {},
     "output_type": "execute_result"
    }
   ],
   "source": [
    "X.shape"
   ]
  },
  {
   "cell_type": "code",
   "execution_count": null,
   "id": "0290f944",
   "metadata": {},
   "outputs": [],
   "source": []
  },
  {
   "cell_type": "code",
   "execution_count": null,
   "id": "47b78d15",
   "metadata": {},
   "outputs": [],
   "source": []
  },
  {
   "cell_type": "code",
   "execution_count": null,
   "id": "5600ed26",
   "metadata": {},
   "outputs": [],
   "source": []
  },
  {
   "cell_type": "code",
   "execution_count": null,
   "id": "347b5167",
   "metadata": {},
   "outputs": [],
   "source": []
  },
  {
   "cell_type": "code",
   "execution_count": null,
   "id": "f8d036e7",
   "metadata": {},
   "outputs": [],
   "source": []
  }
 ],
 "metadata": {
  "kernelspec": {
   "display_name": "Python 3 (ipykernel)",
   "language": "python",
   "name": "python3"
  },
  "language_info": {
   "codemirror_mode": {
    "name": "ipython",
    "version": 3
   },
   "file_extension": ".py",
   "mimetype": "text/x-python",
   "name": "python",
   "nbconvert_exporter": "python",
   "pygments_lexer": "ipython3",
   "version": "3.7.10"
  }
 },
 "nbformat": 4,
 "nbformat_minor": 5
}
