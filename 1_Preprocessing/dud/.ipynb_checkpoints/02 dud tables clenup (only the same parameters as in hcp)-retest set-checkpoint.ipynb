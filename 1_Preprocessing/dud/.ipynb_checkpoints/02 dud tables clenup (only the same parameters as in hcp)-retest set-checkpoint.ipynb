{
 "cells": [
  {
   "cell_type": "code",
   "execution_count": 1,
   "id": "0340dce6",
   "metadata": {},
   "outputs": [],
   "source": [
    "import pandas as pd\n",
    "import numpy as np\n",
    "import glob\n",
    "import os"
   ]
  },
  {
   "cell_type": "code",
   "execution_count": 2,
   "id": "6d20da9e",
   "metadata": {},
   "outputs": [],
   "source": [
    "path_func = '/media/data/Dunedin_Study_Data_Narun_P_Jan2022/DBIS_NarunPat_retest_unstandardisedIQ/retests/fMRI_Regions.N379/'\n",
    "path_str = '/media/data/Dunedin_Study_Data_Narun_P_Jan2022/DBIS_NarunPat_retest_unstandardisedIQ/retests/'\n",
    "path_mov = '/media/data/Dunedin_Study_Data_Narun_P_Jan2022/DBIS_NarunPat_retest_unstandardisedIQ/retests/QC/MotionFiles/'"
   ]
  },
  {
   "cell_type": "code",
   "execution_count": 3,
   "id": "bb01f3b4",
   "metadata": {},
   "outputs": [],
   "source": [
    "labels379 = pd.read_csv(path_func+'FC_labels.csv', header=None).values.ravel()\n",
    "#display(labels379)"
   ]
  },
  {
   "cell_type": "markdown",
   "id": "9ba68726",
   "metadata": {},
   "source": [
    "### Resting state group table"
   ]
  },
  {
   "cell_type": "code",
   "execution_count": null,
   "id": "a42f1626",
   "metadata": {},
   "outputs": [],
   "source": [
    "subjects = [i[:-4] for i in sorted(os.listdir(path_func+'FC_REST_matrices/'))]\n",
    "\n",
    "dct_group_fc={}\n",
    "\n",
    "for subject in subjects:\n",
    "    df = pd.read_csv(path_func+'FC_REST_matrices/'+subject+'.csv', header=None)\n",
    "    df.index, df.columns = labels379, labels379\n",
    "    #r-2-z\n",
    "    df = np.arctanh(df)\n",
    "    #convert to string\n",
    "    dfg = df.where(np.triu(np.ones(df.shape), k=1).astype(bool)).stack().reset_index()\n",
    "    indx = [i+'_&_'+j for i,j in zip(dfg['level_0'], dfg['level_1'])]\n",
    "    fc_string = pd.Series(np.array(dfg[0]),index=indx)\n",
    "    #write a row to dict\n",
    "    dct_group_fc[subject] = fc_string\n",
    "\n",
    "df_rest_gr = pd.DataFrame(dct_group_fc).T\n",
    "\n",
    "#new index the same as in main set\n",
    "\n",
    "df_rest_gr.index = [''.join([i[:4], i[5:]]) for i in df_rest_gr.index]\n",
    "\n",
    "display(df_rest_gr)"
   ]
  },
  {
   "cell_type": "code",
   "execution_count": 5,
   "id": "2a3cc697",
   "metadata": {},
   "outputs": [
    {
     "data": {
      "text/plain": [
       "Series([], dtype: int64)"
      ]
     },
     "execution_count": 5,
     "metadata": {},
     "output_type": "execute_result"
    }
   ],
   "source": [
    "#check for NaN\n",
    "df_rest_gr.isna().sum()[df_rest_gr.isna().sum()>0]"
   ]
  },
  {
   "cell_type": "code",
   "execution_count": null,
   "id": "eb2cea57",
   "metadata": {},
   "outputs": [],
   "source": []
  },
  {
   "cell_type": "markdown",
   "id": "fe2308d0",
   "metadata": {},
   "source": [
    "### Tasks tables"
   ]
  },
  {
   "cell_type": "code",
   "execution_count": 6,
   "id": "ad2d0af7",
   "metadata": {},
   "outputs": [],
   "source": [
    "files = [i.split('/')[-1] for i in glob.glob(path_func+'taskActivation_*')]\n",
    "\n",
    "dct_df_tasks={}\n",
    "\n",
    "for file in files:\n",
    "    dct_df_tasks[file.split('_')[1]] = pd.read_csv(path_func+file, index_col=0)\n",
    "    #new index the same as in main set\n",
    "    dct_df_tasks[file.split('_')[1]].index = [''.join([i[:4], i[5:]]) for i in (dct_df_tasks[file.split('_')[1]]).index]\n",
    "    \n",
    "#for key in dct_df_tasks.keys():\n",
    "#    print(key)\n",
    "#    display(dct_df_tasks[key])\n",
    "#    print(' ')"
   ]
  },
  {
   "cell_type": "code",
   "execution_count": 7,
   "id": "15569bf2",
   "metadata": {
    "scrolled": true
   },
   "outputs": [
    {
     "name": "stdout",
     "output_type": "stream",
     "text": [
      "stroop\n",
      "Series([], dtype: int64)\n",
      "faces\n",
      "Series([], dtype: int64)\n",
      "mid\n",
      "Series([], dtype: int64)\n",
      "facename\n",
      "Series([], dtype: int64)\n"
     ]
    }
   ],
   "source": [
    "#check for NaN\n",
    "for key in dct_df_tasks.keys():\n",
    "    print(key)\n",
    "    print(dct_df_tasks[key].isna().sum()[dct_df_tasks[key].isna().sum()>0])"
   ]
  },
  {
   "cell_type": "code",
   "execution_count": 8,
   "id": "a2638143",
   "metadata": {},
   "outputs": [],
   "source": [
    "#exclude NaN's string\n",
    "for key in dct_df_tasks.keys():\n",
    "    \n",
    "    df = dct_df_tasks[key]\n",
    "    for i in df.index:\n",
    "        if df.loc[i,:].isna().sum() >0:\n",
    "            df = df.drop(i, axis=0)\n",
    "    dct_df_tasks[key]=df"
   ]
  },
  {
   "cell_type": "code",
   "execution_count": null,
   "id": "02b6fb8a",
   "metadata": {},
   "outputs": [],
   "source": [
    "for key in dct_df_tasks.keys():\n",
    "    print(key)\n",
    "    display(dct_df_tasks[key])\n",
    "    print(' ')"
   ]
  },
  {
   "cell_type": "markdown",
   "id": "0ed32c95",
   "metadata": {},
   "source": [
    "### Motion tables"
   ]
  },
  {
   "cell_type": "code",
   "execution_count": null,
   "id": "1d07e772",
   "metadata": {},
   "outputs": [],
   "source": [
    "folders = os.listdir(path_mov)\n",
    "\n",
    "dct_df_mov={}\n",
    "\n",
    "for folder in folders:\n",
    "    \n",
    "    files = os.listdir(path_mov+folder)\n",
    "    #print(files)\n",
    "    dct = {}\n",
    "    \n",
    "    for file in files:\n",
    "        dct[file.split('_')[3].split('.')[0]] = np.loadtxt(path_mov+folder+'/'+file, dtype=float)\n",
    "        \n",
    "    dct_df_mov[folder] = pd.Series(dct)\n",
    "\n",
    "df_mov=pd.DataFrame(dct_df_mov)\n",
    "\n",
    "\n",
    "#new index the same as in main set\n",
    "df_mov.index = [''.join([i[:4], i[5:]]) for i in df_mov.index]\n",
    "\n",
    "\n",
    "display(df_mov)"
   ]
  },
  {
   "cell_type": "code",
   "execution_count": 11,
   "id": "a0f39848",
   "metadata": {},
   "outputs": [
    {
     "data": {
      "text/plain": [
       "Series([], dtype: int64)"
      ]
     },
     "execution_count": 11,
     "metadata": {},
     "output_type": "execute_result"
    }
   ],
   "source": [
    "#check for NaN\n",
    "df_mov.isna().sum()[df_mov.isna().sum()>0]"
   ]
  },
  {
   "cell_type": "code",
   "execution_count": 12,
   "id": "2e77fdf0",
   "metadata": {},
   "outputs": [],
   "source": [
    "#exclude NaN's string\n",
    "\n",
    "for i in df_mov.index:\n",
    "    if df_mov.loc[i,:].isna().sum() >0:\n",
    "        df_mov = df_mov.drop(i, axis=0)"
   ]
  },
  {
   "cell_type": "code",
   "execution_count": null,
   "id": "8b9a3889",
   "metadata": {},
   "outputs": [],
   "source": [
    "df_mov"
   ]
  },
  {
   "cell_type": "markdown",
   "id": "bb6a6076",
   "metadata": {},
   "source": [
    "### Structural"
   ]
  },
  {
   "cell_type": "code",
   "execution_count": 14,
   "id": "74f2a754",
   "metadata": {},
   "outputs": [
    {
     "data": {
      "text/plain": [
       "['QC',\n",
       " 'FC_exclusion.csv',\n",
       " 'RegionalBrain_GlasserCT_10Dec2021.csv',\n",
       " 'fMRI_Regions.N379',\n",
       " 'fMRI_Regions.N396',\n",
       " 'RegionalBrain_GlasserSA_10Dec2021.csv',\n",
       " 'FreeSurfer6.0_aparc.a2009s_ThickAvg.csv',\n",
       " 'FreeSurfer6.0_aseg_SummaryMeasures.csv',\n",
       " 'FreeSurfer6.0_aparc.a2009s_SurfArea.csv',\n",
       " 'RegionalBrain_SubCorticalVolumes_10Dec2021.csv']"
      ]
     },
     "execution_count": 14,
     "metadata": {},
     "output_type": "execute_result"
    }
   ],
   "source": [
    "os.listdir(path_str)"
   ]
  },
  {
   "cell_type": "code",
   "execution_count": null,
   "id": "d789f2df",
   "metadata": {},
   "outputs": [],
   "source": [
    "df_str_thck = pd.read_csv(path_str+'FreeSurfer6.0_aparc.a2009s_ThickAvg.csv', index_col=0)\n",
    "\n",
    "df_str_thck.rename(columns={'S_temporal_transverse':'S_temporal_transverse_left', \n",
    "                           'S_temporal_transverse.1': 'S_temporal_transverse_right'}, inplace=True)\n",
    "\n",
    "new_ind = []\n",
    "for i in df_str_thck.index:\n",
    "    if len(str(i))<4:\n",
    "        new_ind += ['sub-'+'0'+str(i)]\n",
    "    else:\n",
    "        new_ind += ['sub-'+str(i)]\n",
    "        \n",
    "df_str_thck.index = new_ind\n",
    "\n",
    "#new index the same as in main set\n",
    "df_str_thck.index = [''.join([i[:4], i[5:]]) for i in df_str_thck.index]\n",
    "\n",
    "display(df_str_thck)"
   ]
  },
  {
   "cell_type": "code",
   "execution_count": 18,
   "id": "22bcbbae",
   "metadata": {},
   "outputs": [
    {
     "data": {
      "text/plain": [
       "Series([], dtype: int64)"
      ]
     },
     "execution_count": 18,
     "metadata": {},
     "output_type": "execute_result"
    }
   ],
   "source": [
    "#check for nan\n",
    "df_str_thck.isna().sum()[df_str_thck.isna().sum()>0]"
   ]
  },
  {
   "cell_type": "code",
   "execution_count": 19,
   "id": "49e1429f",
   "metadata": {},
   "outputs": [],
   "source": [
    "#exclude NaN's string\n",
    "\n",
    "for i in df_str_thck.index:\n",
    "    if df_str_thck.loc[i,:].isna().sum() >0:\n",
    "        df_str_thck = df_str_thck.drop(i, axis=0)"
   ]
  },
  {
   "cell_type": "code",
   "execution_count": null,
   "id": "169c6abd",
   "metadata": {},
   "outputs": [],
   "source": [
    "df_str_thck"
   ]
  },
  {
   "cell_type": "code",
   "execution_count": null,
   "id": "a34318bf",
   "metadata": {},
   "outputs": [],
   "source": [
    "df_str_surf = pd.read_csv(path_str+'FreeSurfer6.0_aparc.a2009s_SurfArea.csv', index_col=0)\n",
    "\n",
    "df_str_surf.rename(columns={'S_temporal_transverse':'S_temporal_transverse_left', \n",
    "                           'S_temporal_transverse.1': 'S_temporal_transverse_right'}, inplace=True)\n",
    "\n",
    "new_ind = []\n",
    "for i in df_str_surf.index:\n",
    "    if len(str(i))<4:\n",
    "        new_ind += ['sub-'+'0'+str(i)]\n",
    "    else:\n",
    "        new_ind += ['sub-'+str(i)]\n",
    "        \n",
    "df_str_surf.index = new_ind\n",
    "\n",
    "#new index the same as in main set\n",
    "df_str_surf.index = [''.join([i[:4], i[5:]]) for i in df_str_surf.index]\n",
    "\n",
    "display(df_str_surf)"
   ]
  },
  {
   "cell_type": "code",
   "execution_count": 22,
   "id": "2f116061",
   "metadata": {},
   "outputs": [
    {
     "data": {
      "text/plain": [
       "Series([], dtype: int64)"
      ]
     },
     "execution_count": 22,
     "metadata": {},
     "output_type": "execute_result"
    }
   ],
   "source": [
    "#check for nan\n",
    "df_str_surf.isna().sum()[df_str_surf.isna().sum()>0]"
   ]
  },
  {
   "cell_type": "code",
   "execution_count": 23,
   "id": "61332151",
   "metadata": {},
   "outputs": [],
   "source": [
    "#exclude NaN's string\n",
    "\n",
    "for i in df_str_surf.index:\n",
    "    if df_str_surf.loc[i,:].isna().sum() >0:\n",
    "        df_str_surf = df_str_surf.drop(i, axis=0)"
   ]
  },
  {
   "cell_type": "code",
   "execution_count": null,
   "id": "a2d337d2",
   "metadata": {},
   "outputs": [],
   "source": [
    "df_str_surf"
   ]
  },
  {
   "cell_type": "code",
   "execution_count": null,
   "id": "3077aaeb",
   "metadata": {},
   "outputs": [],
   "source": [
    "df_subc = pd.read_csv(path_str+'RegionalBrain_SubCorticalVolumes_10Dec2021.csv', index_col=0)#.iloc[:,2:]\n",
    "\n",
    "new_ind = []\n",
    "for i in df_subc.index:\n",
    "    if len(str(i))<4:\n",
    "        new_ind += ['sub-'+'0'+str(i)]\n",
    "    else:\n",
    "        new_ind += ['sub-'+str(i)]\n",
    "        \n",
    "df_subc.index = new_ind\n",
    "\n",
    "for i in df_subc.index:\n",
    "    for j in df_subc.columns:\n",
    "        if df_subc.loc[i,j]=='.':\n",
    "            df_subc.loc[i,j]=np.nan\n",
    "\n",
    "#new index the same as in main set\n",
    "df_subc.index = [''.join([i[:4], i[5:]]) for i in df_subc.index]\n",
    "\n",
    "#columns for subc from main set\n",
    "cols_subc = pd.read_csv('/media/data/Dunedin_Study_Data_Narun_P_Jan2022/MLTabs/subc_vol.csv', index_col=0).columns\n",
    "\n",
    "df_subc = df_subc.reindex(columns=cols_subc)\n",
    "\n",
    "display(df_subc)"
   ]
  },
  {
   "cell_type": "code",
   "execution_count": 37,
   "id": "8f2420a6",
   "metadata": {},
   "outputs": [
    {
     "data": {
      "text/plain": [
       "Series([], dtype: int64)"
      ]
     },
     "execution_count": 37,
     "metadata": {},
     "output_type": "execute_result"
    }
   ],
   "source": [
    "#check for nan\n",
    "df_subc.isna().sum()[df_subc.isna().sum()>0]"
   ]
  },
  {
   "cell_type": "code",
   "execution_count": 38,
   "id": "f40b19af",
   "metadata": {},
   "outputs": [],
   "source": [
    "#exclude NaN's string\n",
    "\n",
    "for i in df_subc.index:\n",
    "    if df_subc.loc[i,:].isna().sum() >0:\n",
    "        df_subc =df_subc.drop(i, axis=0)"
   ]
  },
  {
   "cell_type": "code",
   "execution_count": null,
   "id": "cb4b9783",
   "metadata": {},
   "outputs": [],
   "source": [
    "df_subc"
   ]
  },
  {
   "cell_type": "code",
   "execution_count": null,
   "id": "a6eb1249",
   "metadata": {},
   "outputs": [],
   "source": [
    "df_brainvol = pd.read_csv(path_str+'FreeSurfer6.0_aseg_SummaryMeasures.csv', index_col=0)\n",
    "df_brainvol = df_brainvol[['eTIV', 'CortexVol', 'SubCortGrayVol', 'CerebralWhiteMatterVol', 'BrainSegVol-to-eTIV']]\n",
    "\n",
    "new_ind = []\n",
    "for i in df_brainvol.index:\n",
    "    if len(str(i))<4:\n",
    "        new_ind += ['sub-'+'0'+str(i)]\n",
    "    else:\n",
    "        new_ind += ['sub-'+str(i)]\n",
    "        \n",
    "df_brainvol.index = new_ind\n",
    "\n",
    "#new index the same as in main set\n",
    "df_brainvol.index = [''.join([i[:4], i[5:]]) for i in df_brainvol.index]\n",
    "\n",
    "display(df_brainvol)"
   ]
  },
  {
   "cell_type": "code",
   "execution_count": 43,
   "id": "5a5d12c8",
   "metadata": {},
   "outputs": [
    {
     "data": {
      "text/plain": [
       "Series([], dtype: int64)"
      ]
     },
     "execution_count": 43,
     "metadata": {},
     "output_type": "execute_result"
    }
   ],
   "source": [
    "#check for nan\n",
    "df_brainvol.isna().sum()[df_brainvol.isna().sum()>0]"
   ]
  },
  {
   "cell_type": "code",
   "execution_count": null,
   "id": "019404f8",
   "metadata": {},
   "outputs": [],
   "source": [
    "\"\"\"df_target = pd.read_csv('/media/data/Dunedin_Study_Data_Narun_P_Jan2022/Narun_RevisedProject_20211223.csv', index_col=1)\n",
    "df_target = df_target[['sex', 'IQ45_chstd', 'ChildIQ_chstd']]\n",
    "\n",
    "new_ind = []\n",
    "for i in df_target.index:\n",
    "    if len(str(int(i)))<4:\n",
    "        new_ind += ['sub-'+'0'+str(int(i))]\n",
    "    else:\n",
    "        new_ind += ['sub-'+str(int(i))]\n",
    "        \n",
    "df_target.index = new_ind\n",
    "\n",
    "#display(df_target)\"\"\""
   ]
  },
  {
   "cell_type": "code",
   "execution_count": null,
   "id": "fe47c1dd",
   "metadata": {},
   "outputs": [],
   "source": [
    "\"\"\"#check for nan\n",
    "df_target.isna().sum()[df_target.isna().sum()>0]\"\"\""
   ]
  },
  {
   "cell_type": "code",
   "execution_count": null,
   "id": "746b14bd",
   "metadata": {},
   "outputs": [],
   "source": [
    "\"\"\"#exclude NaN's string\n",
    "\n",
    "for i in df_target.index:\n",
    "    if df_target.loc[i,:].isna().sum() >0:\n",
    "        df_target =df_target.drop(i, axis=0)\"\"\""
   ]
  },
  {
   "cell_type": "code",
   "execution_count": null,
   "id": "63a3f418",
   "metadata": {},
   "outputs": [],
   "source": [
    "\"\"\"df_target\"\"\""
   ]
  },
  {
   "cell_type": "markdown",
   "id": "6c960901",
   "metadata": {},
   "source": [
    "##### Check common id's"
   ]
  },
  {
   "cell_type": "code",
   "execution_count": 44,
   "id": "e5fa44a6",
   "metadata": {},
   "outputs": [],
   "source": [
    "total_ind = list(set(df_rest_gr.index) &\n",
    "set(dct_df_tasks['faces'].index) &\n",
    "set(dct_df_tasks['mid'].index) &\n",
    "set(dct_df_tasks['facename'].index) &\n",
    "set(dct_df_tasks['stroop'].index) &\n",
    "set(df_mov.index) &\n",
    "set(df_str_thck.index) &\n",
    "set(df_str_surf.index) &\n",
    "set(df_subc.index) &\n",
    "set(df_brainvol.index)) #&\n",
    "#set(df_target.index))"
   ]
  },
  {
   "cell_type": "code",
   "execution_count": 45,
   "id": "6caa247c",
   "metadata": {},
   "outputs": [
    {
     "data": {
      "text/plain": [
       "20"
      ]
     },
     "execution_count": 45,
     "metadata": {},
     "output_type": "execute_result"
    }
   ],
   "source": [
    "len(total_ind)"
   ]
  },
  {
   "cell_type": "code",
   "execution_count": 46,
   "id": "cdb50607",
   "metadata": {},
   "outputs": [],
   "source": [
    "total_ind = sorted(total_ind)"
   ]
  },
  {
   "cell_type": "code",
   "execution_count": null,
   "id": "0be9d5be",
   "metadata": {},
   "outputs": [],
   "source": [
    "total_ind"
   ]
  },
  {
   "cell_type": "code",
   "execution_count": null,
   "id": "d8a31daf",
   "metadata": {},
   "outputs": [],
   "source": [
    "main_set_ind = pd.read_csv('/media/data/Dunedin_Study_Data_Narun_P_Jan2022/MLTabs/info.csv', index_col=0).index\n",
    "display(main_set_ind)"
   ]
  },
  {
   "cell_type": "code",
   "execution_count": null,
   "id": "cf2281c9",
   "metadata": {},
   "outputs": [],
   "source": [
    "k=0\n",
    "for i in total_ind:\n",
    "    if i in main_set_ind:\n",
    "        k+=1\n",
    "        print(i)\n",
    "print(k)"
   ]
  },
  {
   "cell_type": "code",
   "execution_count": null,
   "id": "04f1e4d4",
   "metadata": {},
   "outputs": [],
   "source": []
  },
  {
   "cell_type": "code",
   "execution_count": null,
   "id": "f4a633e7",
   "metadata": {},
   "outputs": [],
   "source": []
  },
  {
   "cell_type": "code",
   "execution_count": 38,
   "id": "5ae766c7",
   "metadata": {},
   "outputs": [],
   "source": [
    "#filter to specific subjects\n",
    "df_rest_gr = df_rest_gr.reindex(index=total_ind)\n",
    "dct_df_tasks['faces'] = dct_df_tasks['faces'].reindex(index=total_ind)\n",
    "dct_df_tasks['mid'] = dct_df_tasks['mid'].reindex(index=total_ind)\n",
    "dct_df_tasks['facename'] = dct_df_tasks['facename'].reindex(index=total_ind)\n",
    "dct_df_tasks['stroop'] = dct_df_tasks['stroop'].reindex(index=total_ind)\n",
    "df_mov = df_mov.reindex(index=total_ind)\n",
    "df_str_thck = df_str_thck.reindex(index=total_ind)\n",
    "df_str_surf = df_str_surf.reindex(index=total_ind)\n",
    "df_subc = df_subc.reindex(index=total_ind)\n",
    "df_brainvol = df_brainvol.reindex(index=total_ind)\n",
    "#df_target = df_target.reindex(index=total_ind)"
   ]
  },
  {
   "cell_type": "code",
   "execution_count": 51,
   "id": "7da01119",
   "metadata": {},
   "outputs": [],
   "source": [
    "#save\n",
    "df_rest_gr.to_csv('/media/data/Dunedin_Study_Data_Narun_P_Jan2022/MLTabs_retest/'+'rest.csv')\n",
    "dct_df_tasks['faces'].to_csv('/media/data/Dunedin_Study_Data_Narun_P_Jan2022/MLTabs_retest/'+'faces.csv')\n",
    "dct_df_tasks['mid'].to_csv('/media/data/Dunedin_Study_Data_Narun_P_Jan2022/MLTabs_retest/'+'mid.csv')\n",
    "dct_df_tasks['facename'].to_csv('/media/data/Dunedin_Study_Data_Narun_P_Jan2022/MLTabs_retest/'+'facename.csv')\n",
    "dct_df_tasks['stroop'].to_csv('/media/data/Dunedin_Study_Data_Narun_P_Jan2022/MLTabs_retest/'+'stroop.csv')\n",
    "df_mov.to_csv('/media/data/Dunedin_Study_Data_Narun_P_Jan2022/MLTabs_retest/'+'movements.csv')\n",
    "df_str_thck.to_csv('/media/data/Dunedin_Study_Data_Narun_P_Jan2022/MLTabs_retest/'+'cort_thck.csv')\n",
    "df_str_surf.to_csv('/media/data/Dunedin_Study_Data_Narun_P_Jan2022/MLTabs_retest/'+'cort_area.csv')\n",
    "df_subc.to_csv('/media/data/Dunedin_Study_Data_Narun_P_Jan2022/MLTabs_retest/'+'subc_vol.csv')\n",
    "df_brainvol.to_csv('/media/data/Dunedin_Study_Data_Narun_P_Jan2022/MLTabs_retest/'+'total_vol.csv')\n",
    "#df_target.to_csv('/media/data/Dunedin_Study_Data_Narun_P_Jan2022/MLTabs/'+'info.csv')"
   ]
  },
  {
   "cell_type": "code",
   "execution_count": null,
   "id": "247b253c",
   "metadata": {},
   "outputs": [],
   "source": []
  },
  {
   "cell_type": "code",
   "execution_count": null,
   "id": "48a6431d",
   "metadata": {},
   "outputs": [],
   "source": []
  },
  {
   "cell_type": "code",
   "execution_count": null,
   "id": "4dcfe652",
   "metadata": {},
   "outputs": [],
   "source": []
  },
  {
   "cell_type": "code",
   "execution_count": null,
   "id": "86f40e21",
   "metadata": {},
   "outputs": [],
   "source": []
  },
  {
   "cell_type": "code",
   "execution_count": null,
   "id": "2e85f6a8",
   "metadata": {},
   "outputs": [],
   "source": []
  },
  {
   "cell_type": "code",
   "execution_count": null,
   "id": "aa8eb112",
   "metadata": {},
   "outputs": [],
   "source": []
  },
  {
   "cell_type": "code",
   "execution_count": null,
   "id": "0138ff80",
   "metadata": {},
   "outputs": [],
   "source": []
  },
  {
   "cell_type": "code",
   "execution_count": null,
   "id": "764e3fd0",
   "metadata": {},
   "outputs": [],
   "source": []
  },
  {
   "cell_type": "code",
   "execution_count": null,
   "id": "ea177e52",
   "metadata": {},
   "outputs": [],
   "source": []
  },
  {
   "cell_type": "code",
   "execution_count": null,
   "id": "42e1bd7f",
   "metadata": {},
   "outputs": [],
   "source": []
  }
 ],
 "metadata": {
  "kernelspec": {
   "display_name": "Python 3 (ipykernel)",
   "language": "python",
   "name": "python3"
  },
  "language_info": {
   "codemirror_mode": {
    "name": "ipython",
    "version": 3
   },
   "file_extension": ".py",
   "mimetype": "text/x-python",
   "name": "python",
   "nbconvert_exporter": "python",
   "pygments_lexer": "ipython3",
   "version": "3.7.10"
  }
 },
 "nbformat": 4,
 "nbformat_minor": 5
}
