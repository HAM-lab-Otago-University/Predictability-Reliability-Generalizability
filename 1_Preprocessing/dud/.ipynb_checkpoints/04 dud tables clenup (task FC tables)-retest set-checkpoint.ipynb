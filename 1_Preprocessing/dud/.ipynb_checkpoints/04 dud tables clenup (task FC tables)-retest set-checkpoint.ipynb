{
 "cells": [
  {
   "cell_type": "code",
   "execution_count": 11,
   "id": "0340dce6",
   "metadata": {},
   "outputs": [],
   "source": [
    "import pandas as pd\n",
    "import numpy as np\n",
    "import glob\n",
    "import os"
   ]
  },
  {
   "cell_type": "code",
   "execution_count": 12,
   "id": "6d20da9e",
   "metadata": {},
   "outputs": [],
   "source": [
    "#path\n",
    "path_func = '/media/data/Dunedin_Study_Data_Narun_P_Jan2022/DBIS_NarunPat_retest_unstandardisedIQ/retests/fMRI_Regions.N379/'\n",
    "path_str = '/media/data/Dunedin_Study_Data_Narun_P_Jan2022/DBIS_NarunPat_retest_unstandardisedIQ/retests/'\n",
    "path_mov = '/media/data/Dunedin_Study_Data_Narun_P_Jan2022/DBIS_NarunPat_retest_unstandardisedIQ/retests/QC/MotionFiles/'"
   ]
  },
  {
   "cell_type": "code",
   "execution_count": 13,
   "id": "bb01f3b4",
   "metadata": {},
   "outputs": [],
   "source": [
    "#labels\n",
    "labels379 = pd.read_csv(path_func+'FC_labels.csv', header=None).values.ravel()\n",
    "#display(labels379)"
   ]
  },
  {
   "cell_type": "code",
   "execution_count": 14,
   "id": "3b922498",
   "metadata": {},
   "outputs": [
    {
     "name": "stdout",
     "output_type": "stream",
     "text": [
      "['FC_facename_matrices', 'FC_faces_matrices', 'FC_mid_matrices', 'FC_stroop_matrices']\n"
     ]
    }
   ],
   "source": [
    "#load data\n",
    "folders = [i.split('/')[-1] for i in sorted(glob.glob(path_func+'FC_*_matrices'))[2:]]\n",
    "print(folders)"
   ]
  },
  {
   "cell_type": "code",
   "execution_count": 15,
   "id": "1a137b20",
   "metadata": {},
   "outputs": [],
   "source": [
    "#load data and calc cor matx, flatten them\n",
    "folders = [i.split('/')[-1] for i in sorted(glob.glob(path_func+'FC_*_matrices'))[2:]]\n",
    "\n",
    "dct_task_fc={}\n",
    "\n",
    "for folder in folders:\n",
    "    \n",
    "    subjects = [i[:-4] for i in sorted(os.listdir(path_func+folder+'/'))]\n",
    "\n",
    "    dct_group_fc={}\n",
    "\n",
    "    for subject in subjects:\n",
    "        df = pd.read_csv(path_func+folder+'/'+subject+'.csv', header=None)\n",
    "        df.index, df.columns = labels379, labels379\n",
    "        #r-2-z\n",
    "        df = np.arctanh(df)\n",
    "        #convert to string\n",
    "        dfg = df.where(np.triu(np.ones(df.shape), k=1).astype(bool)).stack().reset_index()\n",
    "        indx = [i+'_&_'+j for i,j in zip(dfg['level_0'], dfg['level_1'])]\n",
    "        fc_string = pd.Series(np.array(dfg[0]),index=indx)\n",
    "        #write a row to dict\n",
    "        dct_group_fc[subject] = fc_string\n",
    "\n",
    "    dct_task_fc[folder.split('_')[1]] = pd.DataFrame(dct_group_fc).T\n",
    "\n"
   ]
  },
  {
   "cell_type": "code",
   "execution_count": 16,
   "id": "d5015568",
   "metadata": {},
   "outputs": [
    {
     "name": "stdout",
     "output_type": "stream",
     "text": [
      "facename\n",
      "Series([], dtype: int64)\n",
      "faces\n",
      "Series([], dtype: int64)\n",
      "mid\n",
      "Series([], dtype: int64)\n",
      "stroop\n",
      "Series([], dtype: int64)\n"
     ]
    }
   ],
   "source": [
    "#check for nan\n",
    "for key in dct_task_fc.keys():\n",
    "    print(key)\n",
    "    print(dct_task_fc[key].isna().sum()[dct_task_fc[key].isna().sum()>0])"
   ]
  },
  {
   "cell_type": "code",
   "execution_count": null,
   "id": "52db9d97",
   "metadata": {},
   "outputs": [],
   "source": []
  },
  {
   "cell_type": "code",
   "execution_count": null,
   "id": "4dcfe652",
   "metadata": {},
   "outputs": [],
   "source": [
    "#sort indexes\n",
    "for key in dct_task_fc.keys():\n",
    "    #cut  index\n",
    "    dct_task_fc[key].index = [''.join([i[:4], i[5:]]) for i in dct_task_fc[key].index]\n",
    "    #sort index\n",
    "    dct_task_fc[key] =  dct_task_fc[key].sort_index()\n",
    "    \n",
    "    print(key)\n",
    "    display(dct_task_fc[key])"
   ]
  },
  {
   "cell_type": "code",
   "execution_count": 18,
   "id": "86f40e21",
   "metadata": {},
   "outputs": [],
   "source": [
    "#save\n",
    "for key in dct_task_fc.keys():\n",
    "    dct_task_fc[key].to_csv('/media/data/Dunedin_Study_Data_Narun_P_Jan2022/MLTabs_retest/'+key+'_FC.csv')"
   ]
  },
  {
   "cell_type": "code",
   "execution_count": null,
   "id": "aa8eb112",
   "metadata": {},
   "outputs": [],
   "source": []
  },
  {
   "cell_type": "code",
   "execution_count": null,
   "id": "0138ff80",
   "metadata": {},
   "outputs": [],
   "source": []
  },
  {
   "cell_type": "code",
   "execution_count": null,
   "id": "764e3fd0",
   "metadata": {},
   "outputs": [],
   "source": []
  },
  {
   "cell_type": "code",
   "execution_count": null,
   "id": "ea177e52",
   "metadata": {},
   "outputs": [],
   "source": []
  },
  {
   "cell_type": "code",
   "execution_count": null,
   "id": "42e1bd7f",
   "metadata": {},
   "outputs": [],
   "source": []
  }
 ],
 "metadata": {
  "kernelspec": {
   "display_name": "Python 3 (ipykernel)",
   "language": "python",
   "name": "python3"
  },
  "language_info": {
   "codemirror_mode": {
    "name": "ipython",
    "version": 3
   },
   "file_extension": ".py",
   "mimetype": "text/x-python",
   "name": "python",
   "nbconvert_exporter": "python",
   "pygments_lexer": "ipython3",
   "version": "3.7.10"
  }
 },
 "nbformat": 4,
 "nbformat_minor": 5
}
